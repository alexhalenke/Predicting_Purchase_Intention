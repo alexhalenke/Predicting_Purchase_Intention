{
 "cells": [
  {
   "cell_type": "code",
   "execution_count": 97,
   "id": "43ccde65-3943-4720-a7a2-ad82df46b019",
   "metadata": {},
   "outputs": [],
   "source": [
    "import pandas as pd\n",
    "import numpy as np\n",
    "from google.cloud import bigquery\n",
    "client = bigquery.Client()\n",
    "from Predicting_Purchase_Intention.utils.get_data import get_raw_data\n",
    "from Predicting_Purchase_Intention.utils.clean_data import drop_cols, clean_data\n",
    "from sklearn.pipeline import Pipeline, make_pipeline \n",
    "from sklearn.preprocessing import MinMaxScaler, StandardScaler\n",
    "from sklearn.impute import SimpleImputer\n",
    "from sklearn.compose import ColumnTransformer, make_column_transformer, make_column_selector\n",
    "from sklearn.svm import LinearSVC\n",
    "from sklearn.model_selection import train_test_split\n",
    "from sklearn.model_selection import cross_validate\n",
    "from sklearn.tree import DecisionTreeClassifier\n",
    "from sklearn.neighbors import KNeighborsClassifier\n",
    "from sklearn.model_selection import GridSearchCV\n",
    "from sklearn.svm import SVC\n"
   ]
  },
  {
   "cell_type": "code",
   "execution_count": 98,
   "id": "54777c3b",
   "metadata": {},
   "outputs": [],
   "source": [
    "test_df = pd.read_csv('../raw_data/test_3days_dataset.csv')\n",
    "#Use path specified on your branch"
   ]
  },
  {
   "cell_type": "markdown",
   "id": "3b37576d-1dff-4fc6-8ee8-f3cc32e7eabb",
   "metadata": {},
   "source": [
    "## Basic Preprocessing(To be expanded)"
   ]
  },
  {
   "cell_type": "code",
   "execution_count": 99,
   "id": "d27e1d4b-bf6b-4b29-afa8-c18391d91102",
   "metadata": {},
   "outputs": [],
   "source": [
    "col_drop = []\n",
    "for num in test_df.columns:\n",
    "    if (test_df[num].isnull().sum()/len(test_df)*100) > 95:\n",
    "        col_drop.append(num)\n",
    "\n",
    "test_df = test_df.drop(columns =col_drop)\n",
    "#drop columns with more than 95% missing values\n",
    "\n",
    "list_y = list(set(test_df['target_variable'].values)) #unique values in the target variable\n",
    "list_y.remove(0)\n",
    "#dependent on what we eventually agree as the main class for the precision target\n",
    "test_df['target_variable'] = test_df['target_variable'].replace(to_replace=list_y, value = -1) \n",
    "test_df['target_variable'] = test_df['target_variable'].replace(to_replace=0, value = 1)\n",
    "test_df['target_variable'] = test_df['target_variable'].replace(to_replace=-1, value = 0)"
   ]
  },
  {
   "cell_type": "code",
   "execution_count": 109,
   "id": "c16c8d31-998b-471c-b4a2-c63d054201d2",
   "metadata": {},
   "outputs": [
    {
     "data": {
      "text/plain": [
       "1    9730\n",
       "0      97\n",
       "Name: target_variable, dtype: int64"
      ]
     },
     "execution_count": 109,
     "metadata": {},
     "output_type": "execute_result"
    }
   ],
   "source": [
    "test_df['target_variable'].value_counts(normalize = False)"
   ]
  },
  {
   "cell_type": "markdown",
   "id": "c406f088-d808-4df9-9ac6-0edaafd2c630",
   "metadata": {},
   "source": [
    "❓ **Question (Imbalance)** ❓\n",
    "Horrible imbalance in the dataset. Hence the need for a very high precision score at the micro level"
   ]
  },
  {
   "cell_type": "code",
   "execution_count": 122,
   "id": "7c05514d-ad5b-4692-b600-d8e0fafb29cf",
   "metadata": {},
   "outputs": [],
   "source": [
    "X = test_df.drop(columns = ['target_variable', 'user_pseudo_id', 'Unnamed: 0'])\n",
    "y = test_df['target_variable']\n",
    "\n",
    "#basic Pipeline, can be improved once we insert categorical features \n",
    "preproc_baseline = make_pipeline(\n",
    "    SimpleImputer(),\n",
    "    MinMaxScaler())\n",
    "\n",
    "X_train, X_test, y_train, y_test = train_test_split(X, y, test_size=0.3)"
   ]
  },
  {
   "cell_type": "markdown",
   "id": "8c3cb55b-d3b1-4e9a-8e87-6962e8d4c18e",
   "metadata": {},
   "source": [
    "## Modeling"
   ]
  },
  {
   "cell_type": "markdown",
   "id": "972ae645-fca1-49aa-82a3-9aff1e53b797",
   "metadata": {
    "tags": []
   },
   "source": [
    "❓ **Question (best models)** ❓\n",
    "\n",
    "Attempting various models for the baseline: LinearSVC, KNC and Decision Tree Classifier. Based on our goals, we wants a very high score so that we can predict the a good base of customers who do not consummate their transactions and then target them with strategic advertisements. "
   ]
  },
  {
   "cell_type": "code",
   "execution_count": 123,
   "id": "f0566bea",
   "metadata": {},
   "outputs": [
    {
     "data": {
      "text/plain": [
       "(0.9964173866916933, 0.9942176277446346)"
      ]
     },
     "execution_count": 123,
     "metadata": {},
     "output_type": "execute_result"
    }
   ],
   "source": [
    "model1 = LinearSVC()\n",
    "pipe_baseline = make_pipeline(preproc_baseline, model1)\n",
    "pipe_baseline.fit(X_train,y_train)\n",
    "scores = cross_validate(pipe_baseline, X_test, y_test, cv=5, scoring=['precision','f1'])\n",
    "\n",
    "\n",
    "scores['test_f1'].mean(), scores['test_precision'].mean()"
   ]
  },
  {
   "cell_type": "code",
   "execution_count": 124,
   "id": "26a2dcbf-a950-4b18-9948-57c865cb1241",
   "metadata": {},
   "outputs": [
    {
     "data": {
      "text/plain": [
       "(0.9959102436864604, 0.9928680717612369)"
      ]
     },
     "execution_count": 124,
     "metadata": {},
     "output_type": "execute_result"
    }
   ],
   "source": [
    "model2 = KNeighborsClassifier(n_neighbors=5)\n",
    "pipe_baseline = make_pipeline(preproc_baseline, model2)\n",
    "pipe_baseline.fit(X_train,y_train)\n",
    "scores = cross_validate(pipe_baseline, X_test, y_test, cv=5, scoring=['precision','f1'])\n",
    "\n",
    "\n",
    "scores['test_f1'].mean(), scores['test_precision'].mean()"
   ]
  },
  {
   "cell_type": "code",
   "execution_count": 125,
   "id": "83c25127-feae-4853-9b93-a8040f1e70ce",
   "metadata": {},
   "outputs": [
    {
     "data": {
      "text/plain": [
       "(0.9960851053966839, 0.9922010877384825)"
      ]
     },
     "execution_count": 125,
     "metadata": {},
     "output_type": "execute_result"
    }
   ],
   "source": [
    "model3 = SVC()\n",
    "pipe_baseline = make_pipeline(preproc_baseline, model3)\n",
    "pipe_baseline.fit(X_train,y_train)\n",
    "scores = cross_validate(pipe_baseline, X_test, y_test, cv=5, scoring=['precision','f1'])\n",
    "\n",
    "\n",
    "scores['test_f1'].mean(), scores['test_precision'].mean()"
   ]
  },
  {
   "cell_type": "code",
   "execution_count": 126,
   "id": "67c1134e-6285-4ee6-9777-81efe738152f",
   "metadata": {},
   "outputs": [
    {
     "data": {
      "text/plain": [
       "(0.9926338134040676, 0.9941795881791192)"
      ]
     },
     "execution_count": 126,
     "metadata": {},
     "output_type": "execute_result"
    }
   ],
   "source": [
    "model4 = DecisionTreeClassifier()\n",
    "\n",
    "pipe_baseline = make_pipeline(preproc_baseline, model4)\n",
    "pipe_baseline.fit(X_train,y_train)\n",
    "scores = cross_validate(pipe_baseline, X_test, y_test, cv=5, scoring=['precision','f1'])\n",
    "\n",
    "scores['test_f1'].mean(), scores['test_precision'].mean()\n",
    "\n"
   ]
  },
  {
   "cell_type": "markdown",
   "id": "a0bf3ce2-cd3c-4425-b6cf-cd80a411bbe8",
   "metadata": {},
   "source": [
    "❓ **Question (what to keep)** ❓\n",
    "Let's expand on Linear SVC, KNC and DecisionTreeCLassifiers based on their better Precision Scores.\n",
    "We will do a grid search for each and tweak the parameters. Afterwards, we can modify with XGboost\n"
   ]
  },
  {
   "cell_type": "markdown",
   "id": "d9aafdee-97b2-4932-ab58-4b2f477d7eb6",
   "metadata": {},
   "source": [
    "## Grid Search"
   ]
  },
  {
   "cell_type": "code",
   "execution_count": 130,
   "id": "dc4cf2d8-a42a-489c-9583-32a3ee6ce945",
   "metadata": {},
   "outputs": [],
   "source": [
    "# model5 = KNeighborsClassifier()\n",
    "# k_grid = {'n_neighbors' : [1,5,10,20,50]}\n",
    "# grid = GridSearchCV(model5, k_grid, n_jobs=-1,  cv = 5)\n",
    "# grid.fit(X_train, y_train)\n",
    "# Did Not Work"
   ]
  },
  {
   "cell_type": "code",
   "execution_count": 138,
   "id": "976e5e21-7530-4fcd-af06-f4d30eec6c6c",
   "metadata": {},
   "outputs": [],
   "source": [
    "\n",
    "# model6 = LinearSVC()\n",
    "# SVCpipe = make_pipeline(preproc_baseline, model6)\n",
    "# param_grid = {'steps':np.arange(0,1)}\n",
    "# grid = GridSearchCV(SVCpipe,param_grid,cv=5,return_train_score=True)\n",
    "\n",
    "# grid.fit(X_train, y_train)\n",
    "\n",
    "\n"
   ]
  },
  {
   "cell_type": "code",
   "execution_count": null,
   "id": "2cdc2ca1-a791-4252-9b1f-2084e6e83483",
   "metadata": {},
   "outputs": [],
   "source": []
  }
 ],
 "metadata": {
  "kernelspec": {
   "display_name": "Python 3 (ipykernel)",
   "language": "python",
   "name": "python3"
  },
  "language_info": {
   "codemirror_mode": {
    "name": "ipython",
    "version": 3
   },
   "file_extension": ".py",
   "mimetype": "text/x-python",
   "name": "python",
   "nbconvert_exporter": "python",
   "pygments_lexer": "ipython3",
   "version": "3.8.12"
  },
  "vscode": {
   "interpreter": {
    "hash": "c3e05696b3514718b87c7dc1f2d372a9bac4f9a896c94503f436d492d1582343"
   }
  }
 },
 "nbformat": 4,
 "nbformat_minor": 5
}
