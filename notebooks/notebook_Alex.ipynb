{
 "cells": [
  {
   "cell_type": "code",
   "execution_count": 1,
   "metadata": {},
   "outputs": [],
   "source": [
    "import pandas as pd\n",
    "import numpy as np\n",
    "import glob\n",
    "from Predicting_Purchase_Intention.utils.clean_data import clean_data\n",
    "import datetime\n",
    "from Predicting_Purchase_Intention.utils.page_category import page_category\n",
    "\n",
    "#from google.cloud import bigquery\n",
    "#client = bigquery.Client()\n",
    "#from Predicting_Purchase_Intention.utils.get_data import get_raw_data"
   ]
  },
  {
   "cell_type": "code",
   "execution_count": null,
   "metadata": {},
   "outputs": [],
   "source": [
    "#df = get_raw_data(project='wagon-bootcamp-6515',\n",
    "#                 query=\"\"\"\n",
    "#                       SELECT *\n",
    "#                      FROM `bigquery-public-data.ga4_obfuscated_sample_ecommerce.events_20210130`\n",
    "#                       \"\"\",\n",
    "#                 drop=True)"
   ]
  },
  {
   "cell_type": "code",
   "execution_count": 2,
   "metadata": {
    "scrolled": true
   },
   "outputs": [
    {
     "name": "stderr",
     "output_type": "stream",
     "text": [
      "/tmp/ipykernel_2896/3334580320.py:5: DtypeWarning: Columns (77,79,82,83,84,86) have mixed types. Specify dtype option on import or set low_memory=False.\n",
      "  frame = pd.read_csv(filename, index_col=None, header=0, )\n",
      "/tmp/ipykernel_2896/3334580320.py:5: DtypeWarning: Columns (80,82,83,84,87) have mixed types. Specify dtype option on import or set low_memory=False.\n",
      "  frame = pd.read_csv(filename, index_col=None, header=0, )\n",
      "/tmp/ipykernel_2896/3334580320.py:5: DtypeWarning: Columns (80,81,82,83,84,85) have mixed types. Specify dtype option on import or set low_memory=False.\n",
      "  frame = pd.read_csv(filename, index_col=None, header=0, )\n",
      "/tmp/ipykernel_2896/3334580320.py:5: DtypeWarning: Columns (71,87) have mixed types. Specify dtype option on import or set low_memory=False.\n",
      "  frame = pd.read_csv(filename, index_col=None, header=0, )\n",
      "/tmp/ipykernel_2896/3334580320.py:5: DtypeWarning: Columns (82,83,84,87) have mixed types. Specify dtype option on import or set low_memory=False.\n",
      "  frame = pd.read_csv(filename, index_col=None, header=0, )\n"
     ]
    }
   ],
   "source": [
    "path = '/home/alex/code/alexhalenke/15days'\n",
    "all_files = glob.glob(path + \"/*.csv\")\n",
    "li = []\n",
    "for filename in all_files:\n",
    "    frame = pd.read_csv(filename, index_col=None, header=0, )\n",
    "    li.append(frame)\n",
    "df = pd.concat(li, axis=0, ignore_index=True)"
   ]
  },
  {
   "cell_type": "code",
   "execution_count": 4,
   "metadata": {},
   "outputs": [],
   "source": [
    "df1 = clean_data(df)"
   ]
  },
  {
   "cell_type": "code",
   "execution_count": 7,
   "metadata": {},
   "outputs": [
    {
     "data": {
      "text/html": [
       "<div>\n",
       "<style scoped>\n",
       "    .dataframe tbody tr th:only-of-type {\n",
       "        vertical-align: middle;\n",
       "    }\n",
       "\n",
       "    .dataframe tbody tr th {\n",
       "        vertical-align: top;\n",
       "    }\n",
       "\n",
       "    .dataframe thead th {\n",
       "        text-align: right;\n",
       "    }\n",
       "</style>\n",
       "<table border=\"1\" class=\"dataframe\">\n",
       "  <thead>\n",
       "    <tr style=\"text-align: right;\">\n",
       "      <th></th>\n",
       "      <th>event_date</th>\n",
       "      <th>event_timestamp</th>\n",
       "      <th>event_name</th>\n",
       "      <th>user_pseudo_id</th>\n",
       "      <th>user_first_touch_timestamp</th>\n",
       "      <th>event_params_source</th>\n",
       "      <th>event_params_ga_session_id</th>\n",
       "      <th>event_params_ga_session_number</th>\n",
       "      <th>event_params_medium</th>\n",
       "      <th>event_params_session_engaged</th>\n",
       "      <th>...</th>\n",
       "      <th>geo_city</th>\n",
       "      <th>traffic_source_medium</th>\n",
       "      <th>traffic_source_source</th>\n",
       "      <th>ecommerce_total_item_quantity</th>\n",
       "      <th>ecommerce_unique_items</th>\n",
       "      <th>event_params_engaged_session_event</th>\n",
       "      <th>event_params_engagement_time_msec</th>\n",
       "      <th>event_params_link_domain</th>\n",
       "      <th>event_params_outbound</th>\n",
       "      <th>event_params_value</th>\n",
       "    </tr>\n",
       "  </thead>\n",
       "  <tbody>\n",
       "    <tr>\n",
       "      <th>0</th>\n",
       "      <td>20201104</td>\n",
       "      <td>1604497410570448</td>\n",
       "      <td>user_engagement</td>\n",
       "      <td>1.000300e+06</td>\n",
       "      <td>1.604482e+15</td>\n",
       "      <td>shop.googlemerchandisestore.com</td>\n",
       "      <td>3.614623e+09</td>\n",
       "      <td>2.0</td>\n",
       "      <td>referral</td>\n",
       "      <td>0.0</td>\n",
       "      <td>...</td>\n",
       "      <td>Lyon</td>\n",
       "      <td>referral</td>\n",
       "      <td>shop.googlemerchandisestore.com</td>\n",
       "      <td>NaN</td>\n",
       "      <td>NaN</td>\n",
       "      <td>NaN</td>\n",
       "      <td>NaN</td>\n",
       "      <td>NaN</td>\n",
       "      <td>NaN</td>\n",
       "      <td>NaN</td>\n",
       "    </tr>\n",
       "    <tr>\n",
       "      <th>1</th>\n",
       "      <td>20201104</td>\n",
       "      <td>1604481671657014</td>\n",
       "      <td>first_visit</td>\n",
       "      <td>1.000300e+06</td>\n",
       "      <td>1.604482e+15</td>\n",
       "      <td>NaN</td>\n",
       "      <td>9.350311e+09</td>\n",
       "      <td>1.0</td>\n",
       "      <td>NaN</td>\n",
       "      <td>1.0</td>\n",
       "      <td>...</td>\n",
       "      <td>Lyon</td>\n",
       "      <td>&lt;Other&gt;</td>\n",
       "      <td>&lt;Other&gt;</td>\n",
       "      <td>NaN</td>\n",
       "      <td>NaN</td>\n",
       "      <td>1.0</td>\n",
       "      <td>NaN</td>\n",
       "      <td>NaN</td>\n",
       "      <td>NaN</td>\n",
       "      <td>NaN</td>\n",
       "    </tr>\n",
       "    <tr>\n",
       "      <th>2</th>\n",
       "      <td>20201104</td>\n",
       "      <td>1604481671657014</td>\n",
       "      <td>session_start</td>\n",
       "      <td>1.000300e+06</td>\n",
       "      <td>1.604482e+15</td>\n",
       "      <td>NaN</td>\n",
       "      <td>9.350311e+09</td>\n",
       "      <td>1.0</td>\n",
       "      <td>NaN</td>\n",
       "      <td>NaN</td>\n",
       "      <td>...</td>\n",
       "      <td>Lyon</td>\n",
       "      <td>&lt;Other&gt;</td>\n",
       "      <td>&lt;Other&gt;</td>\n",
       "      <td>NaN</td>\n",
       "      <td>NaN</td>\n",
       "      <td>1.0</td>\n",
       "      <td>NaN</td>\n",
       "      <td>NaN</td>\n",
       "      <td>NaN</td>\n",
       "      <td>NaN</td>\n",
       "    </tr>\n",
       "    <tr>\n",
       "      <th>3</th>\n",
       "      <td>20201104</td>\n",
       "      <td>1604481678760672</td>\n",
       "      <td>view_promotion</td>\n",
       "      <td>1.000300e+06</td>\n",
       "      <td>1.604482e+15</td>\n",
       "      <td>&lt;Other&gt;</td>\n",
       "      <td>9.350311e+09</td>\n",
       "      <td>1.0</td>\n",
       "      <td>&lt;Other&gt;</td>\n",
       "      <td>0.0</td>\n",
       "      <td>...</td>\n",
       "      <td>Lyon</td>\n",
       "      <td>&lt;Other&gt;</td>\n",
       "      <td>&lt;Other&gt;</td>\n",
       "      <td>NaN</td>\n",
       "      <td>NaN</td>\n",
       "      <td>1.0</td>\n",
       "      <td>1850.0</td>\n",
       "      <td>NaN</td>\n",
       "      <td>NaN</td>\n",
       "      <td>NaN</td>\n",
       "    </tr>\n",
       "    <tr>\n",
       "      <th>4</th>\n",
       "      <td>20201104</td>\n",
       "      <td>1604497410570448</td>\n",
       "      <td>session_start</td>\n",
       "      <td>1.000300e+06</td>\n",
       "      <td>1.604482e+15</td>\n",
       "      <td>NaN</td>\n",
       "      <td>3.614623e+09</td>\n",
       "      <td>2.0</td>\n",
       "      <td>NaN</td>\n",
       "      <td>NaN</td>\n",
       "      <td>...</td>\n",
       "      <td>Lyon</td>\n",
       "      <td>referral</td>\n",
       "      <td>shop.googlemerchandisestore.com</td>\n",
       "      <td>NaN</td>\n",
       "      <td>NaN</td>\n",
       "      <td>NaN</td>\n",
       "      <td>NaN</td>\n",
       "      <td>NaN</td>\n",
       "      <td>NaN</td>\n",
       "      <td>NaN</td>\n",
       "    </tr>\n",
       "  </tbody>\n",
       "</table>\n",
       "<p>5 rows × 32 columns</p>\n",
       "</div>"
      ],
      "text/plain": [
       "   event_date   event_timestamp       event_name  user_pseudo_id  \\\n",
       "0    20201104  1604497410570448  user_engagement    1.000300e+06   \n",
       "1    20201104  1604481671657014      first_visit    1.000300e+06   \n",
       "2    20201104  1604481671657014    session_start    1.000300e+06   \n",
       "3    20201104  1604481678760672   view_promotion    1.000300e+06   \n",
       "4    20201104  1604497410570448    session_start    1.000300e+06   \n",
       "\n",
       "   user_first_touch_timestamp              event_params_source  \\\n",
       "0                1.604482e+15  shop.googlemerchandisestore.com   \n",
       "1                1.604482e+15                              NaN   \n",
       "2                1.604482e+15                              NaN   \n",
       "3                1.604482e+15                          <Other>   \n",
       "4                1.604482e+15                              NaN   \n",
       "\n",
       "   event_params_ga_session_id  event_params_ga_session_number  \\\n",
       "0                3.614623e+09                             2.0   \n",
       "1                9.350311e+09                             1.0   \n",
       "2                9.350311e+09                             1.0   \n",
       "3                9.350311e+09                             1.0   \n",
       "4                3.614623e+09                             2.0   \n",
       "\n",
       "  event_params_medium  event_params_session_engaged  ... geo_city  \\\n",
       "0            referral                           0.0  ...     Lyon   \n",
       "1                 NaN                           1.0  ...     Lyon   \n",
       "2                 NaN                           NaN  ...     Lyon   \n",
       "3             <Other>                           0.0  ...     Lyon   \n",
       "4                 NaN                           NaN  ...     Lyon   \n",
       "\n",
       "   traffic_source_medium            traffic_source_source  \\\n",
       "0               referral  shop.googlemerchandisestore.com   \n",
       "1                <Other>                          <Other>   \n",
       "2                <Other>                          <Other>   \n",
       "3                <Other>                          <Other>   \n",
       "4               referral  shop.googlemerchandisestore.com   \n",
       "\n",
       "  ecommerce_total_item_quantity ecommerce_unique_items  \\\n",
       "0                           NaN                    NaN   \n",
       "1                           NaN                    NaN   \n",
       "2                           NaN                    NaN   \n",
       "3                           NaN                    NaN   \n",
       "4                           NaN                    NaN   \n",
       "\n",
       "  event_params_engaged_session_event event_params_engagement_time_msec  \\\n",
       "0                                NaN                               NaN   \n",
       "1                                1.0                               NaN   \n",
       "2                                1.0                               NaN   \n",
       "3                                1.0                            1850.0   \n",
       "4                                NaN                               NaN   \n",
       "\n",
       "  event_params_link_domain event_params_outbound event_params_value  \n",
       "0                      NaN                   NaN                NaN  \n",
       "1                      NaN                   NaN                NaN  \n",
       "2                      NaN                   NaN                NaN  \n",
       "3                      NaN                   NaN                NaN  \n",
       "4                      NaN                   NaN                NaN  \n",
       "\n",
       "[5 rows x 32 columns]"
      ]
     },
     "execution_count": 7,
     "metadata": {},
     "output_type": "execute_result"
    }
   ],
   "source": [
    "df1.head()"
   ]
  },
  {
   "cell_type": "code",
   "execution_count": 9,
   "metadata": {},
   "outputs": [
    {
     "data": {
      "text/html": [
       "<div>\n",
       "<style scoped>\n",
       "    .dataframe tbody tr th:only-of-type {\n",
       "        vertical-align: middle;\n",
       "    }\n",
       "\n",
       "    .dataframe tbody tr th {\n",
       "        vertical-align: top;\n",
       "    }\n",
       "\n",
       "    .dataframe thead th {\n",
       "        text-align: right;\n",
       "    }\n",
       "</style>\n",
       "<table border=\"1\" class=\"dataframe\">\n",
       "  <thead>\n",
       "    <tr style=\"text-align: right;\">\n",
       "      <th></th>\n",
       "      <th>event_date</th>\n",
       "      <th>event_timestamp</th>\n",
       "      <th>event_name</th>\n",
       "      <th>user_pseudo_id</th>\n",
       "      <th>user_first_touch_timestamp</th>\n",
       "      <th>event_params_ga_session_id</th>\n",
       "      <th>event_params_ga_session_number</th>\n",
       "      <th>event_params_session_engaged</th>\n",
       "      <th>event_params_page_title</th>\n",
       "      <th>event_params_engaged_session_event</th>\n",
       "      <th>event_params_engagement_time_msec</th>\n",
       "    </tr>\n",
       "  </thead>\n",
       "  <tbody>\n",
       "    <tr>\n",
       "      <th>0</th>\n",
       "      <td>2020-11-04</td>\n",
       "      <td>2020-11-04 13:43:30.570448</td>\n",
       "      <td>user_engagement</td>\n",
       "      <td>1000300.3223254236</td>\n",
       "      <td>2020-11-04 09:21:11.657014016</td>\n",
       "      <td>3.614623e+09</td>\n",
       "      <td>2.0</td>\n",
       "      <td>0.0</td>\n",
       "      <td>Home</td>\n",
       "      <td>NaN</td>\n",
       "      <td>NaN</td>\n",
       "    </tr>\n",
       "    <tr>\n",
       "      <th>1</th>\n",
       "      <td>2020-11-04</td>\n",
       "      <td>2020-11-04 09:21:11.657014</td>\n",
       "      <td>first_visit</td>\n",
       "      <td>1000300.3223254236</td>\n",
       "      <td>2020-11-04 09:21:11.657014016</td>\n",
       "      <td>9.350311e+09</td>\n",
       "      <td>1.0</td>\n",
       "      <td>1.0</td>\n",
       "      <td>Home</td>\n",
       "      <td>1.0</td>\n",
       "      <td>NaN</td>\n",
       "    </tr>\n",
       "    <tr>\n",
       "      <th>2</th>\n",
       "      <td>2020-11-04</td>\n",
       "      <td>2020-11-04 09:21:11.657014</td>\n",
       "      <td>session_start</td>\n",
       "      <td>1000300.3223254236</td>\n",
       "      <td>2020-11-04 09:21:11.657014016</td>\n",
       "      <td>9.350311e+09</td>\n",
       "      <td>1.0</td>\n",
       "      <td>NaN</td>\n",
       "      <td>Home</td>\n",
       "      <td>1.0</td>\n",
       "      <td>NaN</td>\n",
       "    </tr>\n",
       "    <tr>\n",
       "      <th>3</th>\n",
       "      <td>2020-11-04</td>\n",
       "      <td>2020-11-04 09:21:18.760672</td>\n",
       "      <td>view_promotion</td>\n",
       "      <td>1000300.3223254236</td>\n",
       "      <td>2020-11-04 09:21:11.657014016</td>\n",
       "      <td>9.350311e+09</td>\n",
       "      <td>1.0</td>\n",
       "      <td>0.0</td>\n",
       "      <td>Home</td>\n",
       "      <td>1.0</td>\n",
       "      <td>1850.0</td>\n",
       "    </tr>\n",
       "    <tr>\n",
       "      <th>4</th>\n",
       "      <td>2020-11-04</td>\n",
       "      <td>2020-11-04 13:43:30.570448</td>\n",
       "      <td>session_start</td>\n",
       "      <td>1000300.3223254236</td>\n",
       "      <td>2020-11-04 09:21:11.657014016</td>\n",
       "      <td>3.614623e+09</td>\n",
       "      <td>2.0</td>\n",
       "      <td>NaN</td>\n",
       "      <td>Home</td>\n",
       "      <td>NaN</td>\n",
       "      <td>NaN</td>\n",
       "    </tr>\n",
       "  </tbody>\n",
       "</table>\n",
       "</div>"
      ],
      "text/plain": [
       "  event_date            event_timestamp       event_name      user_pseudo_id  \\\n",
       "0 2020-11-04 2020-11-04 13:43:30.570448  user_engagement  1000300.3223254236   \n",
       "1 2020-11-04 2020-11-04 09:21:11.657014      first_visit  1000300.3223254236   \n",
       "2 2020-11-04 2020-11-04 09:21:11.657014    session_start  1000300.3223254236   \n",
       "3 2020-11-04 2020-11-04 09:21:18.760672   view_promotion  1000300.3223254236   \n",
       "4 2020-11-04 2020-11-04 13:43:30.570448    session_start  1000300.3223254236   \n",
       "\n",
       "     user_first_touch_timestamp  event_params_ga_session_id  \\\n",
       "0 2020-11-04 09:21:11.657014016                3.614623e+09   \n",
       "1 2020-11-04 09:21:11.657014016                9.350311e+09   \n",
       "2 2020-11-04 09:21:11.657014016                9.350311e+09   \n",
       "3 2020-11-04 09:21:11.657014016                9.350311e+09   \n",
       "4 2020-11-04 09:21:11.657014016                3.614623e+09   \n",
       "\n",
       "   event_params_ga_session_number  event_params_session_engaged  \\\n",
       "0                             2.0                           0.0   \n",
       "1                             1.0                           1.0   \n",
       "2                             1.0                           NaN   \n",
       "3                             1.0                           0.0   \n",
       "4                             2.0                           NaN   \n",
       "\n",
       "  event_params_page_title  event_params_engaged_session_event  \\\n",
       "0                    Home                                 NaN   \n",
       "1                    Home                                 1.0   \n",
       "2                    Home                                 1.0   \n",
       "3                    Home                                 1.0   \n",
       "4                    Home                                 NaN   \n",
       "\n",
       "   event_params_engagement_time_msec  \n",
       "0                                NaN  \n",
       "1                                NaN  \n",
       "2                                NaN  \n",
       "3                             1850.0  \n",
       "4                                NaN  "
      ]
     },
     "execution_count": 9,
     "metadata": {},
     "output_type": "execute_result"
    }
   ],
   "source": [
    "df2 = convert_datatypes_filter(df1)\n",
    "df2.head()"
   ]
  },
  {
   "cell_type": "code",
   "execution_count": 14,
   "metadata": {},
   "outputs": [
    {
     "name": "stderr",
     "output_type": "stream",
     "text": [
      "/tmp/ipykernel_2896/1336776905.py:5: SettingWithCopyWarning: \n",
      "A value is trying to be set on a copy of a slice from a DataFrame.\n",
      "Try using .loc[row_indexer,col_indexer] = value instead\n",
      "\n",
      "See the caveats in the documentation: https://pandas.pydata.org/pandas-docs/stable/user_guide/indexing.html#returning-a-view-versus-a-copy\n",
      "  df['target_variable'] = df.target_variable.fillna(0)\n",
      "/tmp/ipykernel_2896/1336776905.py:6: SettingWithCopyWarning: \n",
      "A value is trying to be set on a copy of a slice from a DataFrame.\n",
      "Try using .loc[row_indexer,col_indexer] = value instead\n",
      "\n",
      "See the caveats in the documentation: https://pandas.pydata.org/pandas-docs/stable/user_guide/indexing.html#returning-a-view-versus-a-copy\n",
      "  df['target_variable'] = df['target_variable'].astype(int)\n"
     ]
    },
    {
     "data": {
      "text/plain": [
       "(245150, 12)"
      ]
     },
     "execution_count": 14,
     "metadata": {},
     "output_type": "execute_result"
    }
   ],
   "source": [
    "df3 = input_target_variable(df2)\n",
    "df3.shape"
   ]
  },
  {
   "cell_type": "code",
   "execution_count": 13,
   "metadata": {
    "scrolled": true
   },
   "outputs": [
    {
     "name": "stderr",
     "output_type": "stream",
     "text": [
      "/tmp/ipykernel_2896/4168793812.py:4: SettingWithCopyWarning: \n",
      "A value is trying to be set on a copy of a slice from a DataFrame.\n",
      "Try using .loc[row_indexer,col_indexer] = value instead\n",
      "\n",
      "See the caveats in the documentation: https://pandas.pydata.org/pandas-docs/stable/user_guide/indexing.html#returning-a-view-versus-a-copy\n",
      "  all_purchases['amount_purchases'] = 1\n"
     ]
    },
    {
     "data": {
      "text/plain": [
       "(245150, 15)"
      ]
     },
     "execution_count": 13,
     "metadata": {},
     "output_type": "execute_result"
    }
   ],
   "source": [
    "df4 = slicing_purchasers(df3)\n",
    "df4.shape"
   ]
  },
  {
   "cell_type": "code",
   "execution_count": 3,
   "metadata": {},
   "outputs": [],
   "source": [
    "def convert_datatypes_filter(df:pd.DataFrame) -> pd.DataFrame:\n",
    "    for column in df:\n",
    "        if 'event_date' in column:\n",
    "            df[column] = pd.to_datetime(df[column],yearfirst=True, format='%Y%m%d')\n",
    "        if 'timestamp' in column:\n",
    "            df[column] = pd.to_datetime(df[column], unit='us')\n",
    "        if 'user_pseudo_id' in column:\n",
    "            df[column] = df[column].astype(str)\n",
    "    #work only with necessary columns\n",
    "    df = df[['event_date','event_timestamp','event_name','user_pseudo_id','user_first_touch_timestamp','event_params_ga_session_id',\n",
    "       'event_params_ga_session_number', 'event_params_session_engaged',\n",
    "       'event_params_page_title','event_params_engaged_session_event',\n",
    "       'event_params_engagement_time_msec']]\n",
    "    return df"
   ]
  },
  {
   "cell_type": "code",
   "execution_count": 5,
   "metadata": {},
   "outputs": [],
   "source": [
    "def input_target_variable(df:pd.DataFrame) -> pd.DataFrame:\n",
    "    #add target_variable column for visitors with at least 1 purchase\n",
    "    purchasers = list(df[df['event_name']=='purchase']['user_pseudo_id'].unique())\n",
    "    df.loc[df['user_pseudo_id'].isin(purchasers), 'target_variable'] = 1\n",
    "    df['target_variable'] = df.target_variable.fillna(0)\n",
    "    df['target_variable'] = df['target_variable'].astype(int)\n",
    "    return df"
   ]
  },
  {
   "cell_type": "code",
   "execution_count": 6,
   "metadata": {},
   "outputs": [],
   "source": [
    "def slicing_purchasers(df:pd.DataFrame) -> pd.DataFrame:\n",
    "    #Create DF with amount purchases per User Pseudo Id\n",
    "    all_purchases = df[df['event_name']=='purchase']\n",
    "    all_purchases['amount_purchases'] = 1\n",
    "    df_amount_purchases = pd.pivot_table(data=all_purchases, index='user_pseudo_id', values='event_name', aggfunc='count').reset_index().rename(columns={'event_name': 'amount_purchases'})\n",
    "    #Merge with main DF\n",
    "    df1 = df.merge(df_amount_purchases,on='user_pseudo_id', how='outer').fillna(0)\n",
    "    df1['amount_purchases'] = df1['amount_purchases'].astype(int)\n",
    "    #New column with timestamp of first purchase\n",
    "    all_purchases_timestamp = all_purchases[['user_pseudo_id','event_timestamp']]\n",
    "    first_purchase = pd.DataFrame(all_purchases_timestamp.groupby(['user_pseudo_id'])['event_timestamp'].agg('min').reset_index().rename(columns={'event_timestamp': 'date_first_purchase'}))\n",
    "    #Merge with main DF\n",
    "    df2 = df1.merge(first_purchase, on='user_pseudo_id', how='outer')\n",
    "    #For the events of a user that happened after their first purchase, add a prefix (ABC)\n",
    "    df2['newcolumn_id'] = 'ABC' + df2[df2.event_timestamp > df2.date_first_purchase]['user_pseudo_id']\n",
    "    df3 = df2.dropna(subset=['newcolumn_id'])\n",
    "    df2 = df2[df2['newcolumn_id'].isna()]\n",
    "    df2 = df2.drop(columns=['newcolumn_id'])\n",
    "    df4 = df3.drop(columns=['user_pseudo_id'])\n",
    "    df4['user_pseudo_id'] = df4['newcolumn_id']\n",
    "    df_final = pd.concat([df2 , df4])\n",
    "    df_final.reset_index(inplace=True, drop=True)\n",
    "    #include previous purchase column\n",
    "    df_final['previous_purchase?'] = np.where(df_final['user_pseudo_id'].str.contains('ABC'), 1, 0)\n",
    "    df_final = df_final.drop(columns=['newcolumn_id'])\n",
    "    #if previous purchase is 1 change target variable to 0\n",
    "    df_final.loc[df_final['previous_purchase?'] == 1, 'target_variable'] = 0\n",
    "    return df_final"
   ]
  },
  {
   "cell_type": "code",
   "execution_count": 21,
   "metadata": {},
   "outputs": [],
   "source": [
    "def creation_dataframe_and_own_features(df:pd.DataFrame) -> pd.DataFrame:\n",
    "    #visits per user_pseudo_id\n",
    "    df_visits = df.groupby('user_pseudo_id').agg({'event_params_ga_session_number':'max'}).reset_index().rename(columns={'event_params_ga_session_number': 'visits_per_user_pseudo_id'})\n",
    "    #pageviews per user_pseudo_id\n",
    "    df_pageviews_filter = df[df['event_name']=='page_view'][['user_pseudo_id', 'event_name','event_date' ]]\n",
    "    df_pageviews = pd.pivot_table(data=df_pageviews_filter, index='user_pseudo_id', columns='event_name', aggfunc='count').droplevel(level=1, axis=1).reset_index().rename(columns={'event_date': 'pageviews_per_user_pseudo_id'})\n",
    "    #events per user_pseudo_id\n",
    "    df_events = df.groupby('user_pseudo_id').agg({'event_params_ga_session_number':'count'}).reset_index().rename(columns={'event_params_ga_session_number': 'events_per_visitor'})\n",
    "    #engagement time per user_pseudo_id\n",
    "    df_engagement_time = df.groupby('user_pseudo_id').agg({'event_params_engagement_time_msec':'sum'}).reset_index().rename(columns={'event_params_engagement_time_msec': 'engagement_time_per_visitor'})\n",
    "    #clicks per user_pseudo_id\n",
    "    df_clicks_filter = df[df['event_name']=='click'][['user_pseudo_id', 'event_name','event_date' ]]\n",
    "    df_clicks = pd.pivot_table(data=df_clicks_filter, index='user_pseudo_id', columns='event_name', aggfunc='count').droplevel(level=1, axis=1).reset_index().rename(columns={'event_date': 'clicks_per_visitor'})\n",
    "    #engagement per user_pseudo_id\n",
    "    df_user_engagement_filter = df[df['event_name']=='user_engagement'][['user_pseudo_id', 'event_name','event_date' ]]\n",
    "    df_user_engagements = pd.pivot_table(data=df_user_engagement_filter, index='user_pseudo_id', columns='event_name', aggfunc='count').droplevel(level=1, axis=1).reset_index().rename(columns={'event_date': 'user_engagements_per_visitor'})\n",
    "    #scrollings per user_pseudo_id\n",
    "    df_scrollings_filter = df[df['event_name']=='scroll'][['user_pseudo_id', 'event_name','event_date' ]]\n",
    "    df_scrollings = pd.pivot_table(data=df_scrollings_filter, index='user_pseudo_id', columns='event_name', aggfunc='count').droplevel(level=1, axis=1).reset_index().rename(columns={'event_date': 'scrolls_per_visitor'})\n",
    "\n",
    "    #Merge all of it\n",
    "    df_level_user_pseudo_id = df_visits.merge(df_pageviews,on='user_pseudo_id', how='outer').merge(df_events,on='user_pseudo_id', how='outer').merge(df_engagement_time,on='user_pseudo_id', how='outer').merge(df_clicks,on='user_pseudo_id', how='outer').merge(df_user_engagements,on='user_pseudo_id', how='outer').merge(df_scrollings,on='user_pseudo_id', how='outer')\n",
    "    return df_level_user_pseudo_id"
   ]
  },
  {
   "cell_type": "code",
   "execution_count": 22,
   "metadata": {},
   "outputs": [
    {
     "data": {
      "text/html": [
       "<div>\n",
       "<style scoped>\n",
       "    .dataframe tbody tr th:only-of-type {\n",
       "        vertical-align: middle;\n",
       "    }\n",
       "\n",
       "    .dataframe tbody tr th {\n",
       "        vertical-align: top;\n",
       "    }\n",
       "\n",
       "    .dataframe thead th {\n",
       "        text-align: right;\n",
       "    }\n",
       "</style>\n",
       "<table border=\"1\" class=\"dataframe\">\n",
       "  <thead>\n",
       "    <tr style=\"text-align: right;\">\n",
       "      <th></th>\n",
       "      <th>user_pseudo_id</th>\n",
       "      <th>visits_per_user_pseudo_id</th>\n",
       "      <th>pageviews_per_user_pseudo_id</th>\n",
       "      <th>events_per_visitor</th>\n",
       "      <th>engagement_time_per_visitor</th>\n",
       "      <th>clicks_per_visitor</th>\n",
       "      <th>user_engagements_per_visitor</th>\n",
       "      <th>scrolls_per_visitor</th>\n",
       "    </tr>\n",
       "  </thead>\n",
       "  <tbody>\n",
       "    <tr>\n",
       "      <th>0</th>\n",
       "      <td>1000300.3223254236</td>\n",
       "      <td>2.0</td>\n",
       "      <td>1.0</td>\n",
       "      <td>6</td>\n",
       "      <td>1850.0</td>\n",
       "      <td>NaN</td>\n",
       "      <td>1.0</td>\n",
       "      <td>NaN</td>\n",
       "    </tr>\n",
       "    <tr>\n",
       "      <th>1</th>\n",
       "      <td>10011413.74446635</td>\n",
       "      <td>1.0</td>\n",
       "      <td>1.0</td>\n",
       "      <td>3</td>\n",
       "      <td>0.0</td>\n",
       "      <td>NaN</td>\n",
       "      <td>NaN</td>\n",
       "      <td>NaN</td>\n",
       "    </tr>\n",
       "    <tr>\n",
       "      <th>2</th>\n",
       "      <td>1001568.5746990412</td>\n",
       "      <td>3.0</td>\n",
       "      <td>4.0</td>\n",
       "      <td>13</td>\n",
       "      <td>51314.0</td>\n",
       "      <td>NaN</td>\n",
       "      <td>1.0</td>\n",
       "      <td>NaN</td>\n",
       "    </tr>\n",
       "    <tr>\n",
       "      <th>3</th>\n",
       "      <td>10016685.114057347</td>\n",
       "      <td>1.0</td>\n",
       "      <td>1.0</td>\n",
       "      <td>3</td>\n",
       "      <td>0.0</td>\n",
       "      <td>NaN</td>\n",
       "      <td>NaN</td>\n",
       "      <td>NaN</td>\n",
       "    </tr>\n",
       "    <tr>\n",
       "      <th>4</th>\n",
       "      <td>10023115.433086598</td>\n",
       "      <td>2.0</td>\n",
       "      <td>NaN</td>\n",
       "      <td>2</td>\n",
       "      <td>0.0</td>\n",
       "      <td>NaN</td>\n",
       "      <td>1.0</td>\n",
       "      <td>NaN</td>\n",
       "    </tr>\n",
       "  </tbody>\n",
       "</table>\n",
       "</div>"
      ],
      "text/plain": [
       "       user_pseudo_id  visits_per_user_pseudo_id  \\\n",
       "0  1000300.3223254236                        2.0   \n",
       "1   10011413.74446635                        1.0   \n",
       "2  1001568.5746990412                        3.0   \n",
       "3  10016685.114057347                        1.0   \n",
       "4  10023115.433086598                        2.0   \n",
       "\n",
       "   pageviews_per_user_pseudo_id  events_per_visitor  \\\n",
       "0                           1.0                   6   \n",
       "1                           1.0                   3   \n",
       "2                           4.0                  13   \n",
       "3                           1.0                   3   \n",
       "4                           NaN                   2   \n",
       "\n",
       "   engagement_time_per_visitor  clicks_per_visitor  \\\n",
       "0                       1850.0                 NaN   \n",
       "1                          0.0                 NaN   \n",
       "2                      51314.0                 NaN   \n",
       "3                          0.0                 NaN   \n",
       "4                          0.0                 NaN   \n",
       "\n",
       "   user_engagements_per_visitor  scrolls_per_visitor  \n",
       "0                           1.0                  NaN  \n",
       "1                           NaN                  NaN  \n",
       "2                           1.0                  NaN  \n",
       "3                           NaN                  NaN  \n",
       "4                           1.0                  NaN  "
      ]
     },
     "execution_count": 22,
     "metadata": {},
     "output_type": "execute_result"
    }
   ],
   "source": [
    "df5 = creation_dataframe_and_own_features(df4)\n",
    "df5.head()"
   ]
  },
  {
   "cell_type": "code",
   "execution_count": 55,
   "metadata": {},
   "outputs": [],
   "source": [
    "def features_part1_event_pagenames(df:pd.DataFrame) -> pd.DataFrame:\n",
    "    #Categorize Page Titles\n",
    "    df = page_category(df)\n",
    "    #Create column with unique combinations\n",
    "    df['unique_combinations'] = df['event_name']+ ' & ' +df['Page Category']\n",
    "    df = df[['user_pseudo_id','unique_combinations', 'Page Category']]\n",
    "    df = pd.pivot_table(df, values='Page Category', index='user_pseudo_id', columns='unique_combinations',aggfunc='count')\n",
    "    df = df.reset_index()\n",
    "    return df"
   ]
  },
  {
   "cell_type": "code",
   "execution_count": 56,
   "metadata": {},
   "outputs": [
    {
     "data": {
      "text/plain": [
       "(245150, 17)"
      ]
     },
     "execution_count": 56,
     "metadata": {},
     "output_type": "execute_result"
    }
   ],
   "source": [
    "df4.shape"
   ]
  },
  {
   "cell_type": "code",
   "execution_count": 57,
   "metadata": {
    "scrolled": true
   },
   "outputs": [
    {
     "data": {
      "text/html": [
       "<div>\n",
       "<style scoped>\n",
       "    .dataframe tbody tr th:only-of-type {\n",
       "        vertical-align: middle;\n",
       "    }\n",
       "\n",
       "    .dataframe tbody tr th {\n",
       "        vertical-align: top;\n",
       "    }\n",
       "\n",
       "    .dataframe thead th {\n",
       "        text-align: right;\n",
       "    }\n",
       "</style>\n",
       "<table border=\"1\" class=\"dataframe\">\n",
       "  <thead>\n",
       "    <tr style=\"text-align: right;\">\n",
       "      <th>unique_combinations</th>\n",
       "      <th>user_pseudo_id</th>\n",
       "      <th>add_payment_info &amp; Payment Method</th>\n",
       "      <th>add_shipping_info &amp; Checkout Your Information</th>\n",
       "      <th>add_shipping_info &amp; Other</th>\n",
       "      <th>add_to_cart &amp; Product Listing Page</th>\n",
       "      <th>begin_checkout &amp; Checkout Your Information</th>\n",
       "      <th>begin_checkout &amp; Other</th>\n",
       "      <th>click &amp; Home</th>\n",
       "      <th>click &amp; Information</th>\n",
       "      <th>click &amp; Other</th>\n",
       "      <th>...</th>\n",
       "      <th>view_item &amp; New Product Listing Page</th>\n",
       "      <th>view_item &amp; Product Display Page</th>\n",
       "      <th>view_item &amp; Product Listing Page</th>\n",
       "      <th>view_item &amp; Sale Product Listing Page</th>\n",
       "      <th>view_item &amp; Search Results</th>\n",
       "      <th>view_item_list &amp; New Product Listing Page</th>\n",
       "      <th>view_item_list &amp; Product Listing Page</th>\n",
       "      <th>view_promotion &amp; Home</th>\n",
       "      <th>view_promotion &amp; New Product Listing Page</th>\n",
       "      <th>view_search_results &amp; Search Results</th>\n",
       "    </tr>\n",
       "  </thead>\n",
       "  <tbody>\n",
       "    <tr>\n",
       "      <th>0</th>\n",
       "      <td>1000300.3223254236</td>\n",
       "      <td>NaN</td>\n",
       "      <td>NaN</td>\n",
       "      <td>NaN</td>\n",
       "      <td>NaN</td>\n",
       "      <td>NaN</td>\n",
       "      <td>NaN</td>\n",
       "      <td>NaN</td>\n",
       "      <td>NaN</td>\n",
       "      <td>NaN</td>\n",
       "      <td>...</td>\n",
       "      <td>NaN</td>\n",
       "      <td>NaN</td>\n",
       "      <td>NaN</td>\n",
       "      <td>NaN</td>\n",
       "      <td>NaN</td>\n",
       "      <td>NaN</td>\n",
       "      <td>NaN</td>\n",
       "      <td>1.0</td>\n",
       "      <td>NaN</td>\n",
       "      <td>NaN</td>\n",
       "    </tr>\n",
       "    <tr>\n",
       "      <th>1</th>\n",
       "      <td>10011413.74446635</td>\n",
       "      <td>NaN</td>\n",
       "      <td>NaN</td>\n",
       "      <td>NaN</td>\n",
       "      <td>NaN</td>\n",
       "      <td>NaN</td>\n",
       "      <td>NaN</td>\n",
       "      <td>NaN</td>\n",
       "      <td>NaN</td>\n",
       "      <td>NaN</td>\n",
       "      <td>...</td>\n",
       "      <td>NaN</td>\n",
       "      <td>NaN</td>\n",
       "      <td>NaN</td>\n",
       "      <td>NaN</td>\n",
       "      <td>NaN</td>\n",
       "      <td>NaN</td>\n",
       "      <td>NaN</td>\n",
       "      <td>NaN</td>\n",
       "      <td>NaN</td>\n",
       "      <td>NaN</td>\n",
       "    </tr>\n",
       "    <tr>\n",
       "      <th>2</th>\n",
       "      <td>1001568.5746990412</td>\n",
       "      <td>NaN</td>\n",
       "      <td>NaN</td>\n",
       "      <td>NaN</td>\n",
       "      <td>NaN</td>\n",
       "      <td>NaN</td>\n",
       "      <td>NaN</td>\n",
       "      <td>NaN</td>\n",
       "      <td>NaN</td>\n",
       "      <td>NaN</td>\n",
       "      <td>...</td>\n",
       "      <td>NaN</td>\n",
       "      <td>NaN</td>\n",
       "      <td>NaN</td>\n",
       "      <td>NaN</td>\n",
       "      <td>NaN</td>\n",
       "      <td>NaN</td>\n",
       "      <td>NaN</td>\n",
       "      <td>4.0</td>\n",
       "      <td>NaN</td>\n",
       "      <td>NaN</td>\n",
       "    </tr>\n",
       "    <tr>\n",
       "      <th>3</th>\n",
       "      <td>10016685.114057347</td>\n",
       "      <td>NaN</td>\n",
       "      <td>NaN</td>\n",
       "      <td>NaN</td>\n",
       "      <td>NaN</td>\n",
       "      <td>NaN</td>\n",
       "      <td>NaN</td>\n",
       "      <td>NaN</td>\n",
       "      <td>NaN</td>\n",
       "      <td>NaN</td>\n",
       "      <td>...</td>\n",
       "      <td>NaN</td>\n",
       "      <td>NaN</td>\n",
       "      <td>NaN</td>\n",
       "      <td>NaN</td>\n",
       "      <td>NaN</td>\n",
       "      <td>NaN</td>\n",
       "      <td>NaN</td>\n",
       "      <td>NaN</td>\n",
       "      <td>NaN</td>\n",
       "      <td>NaN</td>\n",
       "    </tr>\n",
       "    <tr>\n",
       "      <th>4</th>\n",
       "      <td>10023115.433086598</td>\n",
       "      <td>NaN</td>\n",
       "      <td>NaN</td>\n",
       "      <td>NaN</td>\n",
       "      <td>NaN</td>\n",
       "      <td>NaN</td>\n",
       "      <td>NaN</td>\n",
       "      <td>NaN</td>\n",
       "      <td>NaN</td>\n",
       "      <td>NaN</td>\n",
       "      <td>...</td>\n",
       "      <td>NaN</td>\n",
       "      <td>NaN</td>\n",
       "      <td>NaN</td>\n",
       "      <td>NaN</td>\n",
       "      <td>NaN</td>\n",
       "      <td>NaN</td>\n",
       "      <td>NaN</td>\n",
       "      <td>NaN</td>\n",
       "      <td>NaN</td>\n",
       "      <td>NaN</td>\n",
       "    </tr>\n",
       "    <tr>\n",
       "      <th>...</th>\n",
       "      <td>...</td>\n",
       "      <td>...</td>\n",
       "      <td>...</td>\n",
       "      <td>...</td>\n",
       "      <td>...</td>\n",
       "      <td>...</td>\n",
       "      <td>...</td>\n",
       "      <td>...</td>\n",
       "      <td>...</td>\n",
       "      <td>...</td>\n",
       "      <td>...</td>\n",
       "      <td>...</td>\n",
       "      <td>...</td>\n",
       "      <td>...</td>\n",
       "      <td>...</td>\n",
       "      <td>...</td>\n",
       "      <td>...</td>\n",
       "      <td>...</td>\n",
       "      <td>...</td>\n",
       "      <td>...</td>\n",
       "      <td>...</td>\n",
       "    </tr>\n",
       "    <tr>\n",
       "      <th>16102</th>\n",
       "      <td>ABC90018117.34699883</td>\n",
       "      <td>NaN</td>\n",
       "      <td>NaN</td>\n",
       "      <td>NaN</td>\n",
       "      <td>NaN</td>\n",
       "      <td>NaN</td>\n",
       "      <td>NaN</td>\n",
       "      <td>NaN</td>\n",
       "      <td>NaN</td>\n",
       "      <td>NaN</td>\n",
       "      <td>...</td>\n",
       "      <td>NaN</td>\n",
       "      <td>NaN</td>\n",
       "      <td>NaN</td>\n",
       "      <td>NaN</td>\n",
       "      <td>NaN</td>\n",
       "      <td>NaN</td>\n",
       "      <td>NaN</td>\n",
       "      <td>NaN</td>\n",
       "      <td>NaN</td>\n",
       "      <td>NaN</td>\n",
       "    </tr>\n",
       "    <tr>\n",
       "      <th>16103</th>\n",
       "      <td>ABC90422982.2543893</td>\n",
       "      <td>NaN</td>\n",
       "      <td>NaN</td>\n",
       "      <td>NaN</td>\n",
       "      <td>NaN</td>\n",
       "      <td>NaN</td>\n",
       "      <td>NaN</td>\n",
       "      <td>NaN</td>\n",
       "      <td>NaN</td>\n",
       "      <td>NaN</td>\n",
       "      <td>...</td>\n",
       "      <td>NaN</td>\n",
       "      <td>NaN</td>\n",
       "      <td>NaN</td>\n",
       "      <td>NaN</td>\n",
       "      <td>NaN</td>\n",
       "      <td>NaN</td>\n",
       "      <td>NaN</td>\n",
       "      <td>NaN</td>\n",
       "      <td>NaN</td>\n",
       "      <td>NaN</td>\n",
       "    </tr>\n",
       "    <tr>\n",
       "      <th>16104</th>\n",
       "      <td>ABC9130640.2139762</td>\n",
       "      <td>NaN</td>\n",
       "      <td>NaN</td>\n",
       "      <td>NaN</td>\n",
       "      <td>NaN</td>\n",
       "      <td>NaN</td>\n",
       "      <td>NaN</td>\n",
       "      <td>NaN</td>\n",
       "      <td>NaN</td>\n",
       "      <td>NaN</td>\n",
       "      <td>...</td>\n",
       "      <td>NaN</td>\n",
       "      <td>NaN</td>\n",
       "      <td>NaN</td>\n",
       "      <td>NaN</td>\n",
       "      <td>NaN</td>\n",
       "      <td>NaN</td>\n",
       "      <td>NaN</td>\n",
       "      <td>NaN</td>\n",
       "      <td>NaN</td>\n",
       "      <td>NaN</td>\n",
       "    </tr>\n",
       "    <tr>\n",
       "      <th>16105</th>\n",
       "      <td>ABC91518233.27911039</td>\n",
       "      <td>2.0</td>\n",
       "      <td>1.0</td>\n",
       "      <td>NaN</td>\n",
       "      <td>NaN</td>\n",
       "      <td>1.0</td>\n",
       "      <td>NaN</td>\n",
       "      <td>NaN</td>\n",
       "      <td>NaN</td>\n",
       "      <td>NaN</td>\n",
       "      <td>...</td>\n",
       "      <td>NaN</td>\n",
       "      <td>NaN</td>\n",
       "      <td>NaN</td>\n",
       "      <td>9.0</td>\n",
       "      <td>NaN</td>\n",
       "      <td>NaN</td>\n",
       "      <td>NaN</td>\n",
       "      <td>2.0</td>\n",
       "      <td>NaN</td>\n",
       "      <td>NaN</td>\n",
       "    </tr>\n",
       "    <tr>\n",
       "      <th>16106</th>\n",
       "      <td>ABC91694984.19822846</td>\n",
       "      <td>NaN</td>\n",
       "      <td>NaN</td>\n",
       "      <td>NaN</td>\n",
       "      <td>NaN</td>\n",
       "      <td>NaN</td>\n",
       "      <td>NaN</td>\n",
       "      <td>NaN</td>\n",
       "      <td>NaN</td>\n",
       "      <td>NaN</td>\n",
       "      <td>...</td>\n",
       "      <td>NaN</td>\n",
       "      <td>NaN</td>\n",
       "      <td>NaN</td>\n",
       "      <td>NaN</td>\n",
       "      <td>NaN</td>\n",
       "      <td>NaN</td>\n",
       "      <td>NaN</td>\n",
       "      <td>NaN</td>\n",
       "      <td>NaN</td>\n",
       "      <td>NaN</td>\n",
       "    </tr>\n",
       "  </tbody>\n",
       "</table>\n",
       "<p>16107 rows × 104 columns</p>\n",
       "</div>"
      ],
      "text/plain": [
       "unique_combinations        user_pseudo_id  add_payment_info & Payment Method  \\\n",
       "0                      1000300.3223254236                                NaN   \n",
       "1                       10011413.74446635                                NaN   \n",
       "2                      1001568.5746990412                                NaN   \n",
       "3                      10016685.114057347                                NaN   \n",
       "4                      10023115.433086598                                NaN   \n",
       "...                                   ...                                ...   \n",
       "16102                ABC90018117.34699883                                NaN   \n",
       "16103                 ABC90422982.2543893                                NaN   \n",
       "16104                  ABC9130640.2139762                                NaN   \n",
       "16105                ABC91518233.27911039                                2.0   \n",
       "16106                ABC91694984.19822846                                NaN   \n",
       "\n",
       "unique_combinations  add_shipping_info & Checkout Your Information  \\\n",
       "0                                                              NaN   \n",
       "1                                                              NaN   \n",
       "2                                                              NaN   \n",
       "3                                                              NaN   \n",
       "4                                                              NaN   \n",
       "...                                                            ...   \n",
       "16102                                                          NaN   \n",
       "16103                                                          NaN   \n",
       "16104                                                          NaN   \n",
       "16105                                                          1.0   \n",
       "16106                                                          NaN   \n",
       "\n",
       "unique_combinations  add_shipping_info & Other  \\\n",
       "0                                          NaN   \n",
       "1                                          NaN   \n",
       "2                                          NaN   \n",
       "3                                          NaN   \n",
       "4                                          NaN   \n",
       "...                                        ...   \n",
       "16102                                      NaN   \n",
       "16103                                      NaN   \n",
       "16104                                      NaN   \n",
       "16105                                      NaN   \n",
       "16106                                      NaN   \n",
       "\n",
       "unique_combinations  add_to_cart & Product Listing Page  \\\n",
       "0                                                   NaN   \n",
       "1                                                   NaN   \n",
       "2                                                   NaN   \n",
       "3                                                   NaN   \n",
       "4                                                   NaN   \n",
       "...                                                 ...   \n",
       "16102                                               NaN   \n",
       "16103                                               NaN   \n",
       "16104                                               NaN   \n",
       "16105                                               NaN   \n",
       "16106                                               NaN   \n",
       "\n",
       "unique_combinations  begin_checkout & Checkout Your Information  \\\n",
       "0                                                           NaN   \n",
       "1                                                           NaN   \n",
       "2                                                           NaN   \n",
       "3                                                           NaN   \n",
       "4                                                           NaN   \n",
       "...                                                         ...   \n",
       "16102                                                       NaN   \n",
       "16103                                                       NaN   \n",
       "16104                                                       NaN   \n",
       "16105                                                       1.0   \n",
       "16106                                                       NaN   \n",
       "\n",
       "unique_combinations  begin_checkout & Other  click & Home  \\\n",
       "0                                       NaN           NaN   \n",
       "1                                       NaN           NaN   \n",
       "2                                       NaN           NaN   \n",
       "3                                       NaN           NaN   \n",
       "4                                       NaN           NaN   \n",
       "...                                     ...           ...   \n",
       "16102                                   NaN           NaN   \n",
       "16103                                   NaN           NaN   \n",
       "16104                                   NaN           NaN   \n",
       "16105                                   NaN           NaN   \n",
       "16106                                   NaN           NaN   \n",
       "\n",
       "unique_combinations  click & Information  click & Other  ...  \\\n",
       "0                                    NaN            NaN  ...   \n",
       "1                                    NaN            NaN  ...   \n",
       "2                                    NaN            NaN  ...   \n",
       "3                                    NaN            NaN  ...   \n",
       "4                                    NaN            NaN  ...   \n",
       "...                                  ...            ...  ...   \n",
       "16102                                NaN            NaN  ...   \n",
       "16103                                NaN            NaN  ...   \n",
       "16104                                NaN            NaN  ...   \n",
       "16105                                NaN            NaN  ...   \n",
       "16106                                NaN            NaN  ...   \n",
       "\n",
       "unique_combinations  view_item & New Product Listing Page  \\\n",
       "0                                                     NaN   \n",
       "1                                                     NaN   \n",
       "2                                                     NaN   \n",
       "3                                                     NaN   \n",
       "4                                                     NaN   \n",
       "...                                                   ...   \n",
       "16102                                                 NaN   \n",
       "16103                                                 NaN   \n",
       "16104                                                 NaN   \n",
       "16105                                                 NaN   \n",
       "16106                                                 NaN   \n",
       "\n",
       "unique_combinations  view_item & Product Display Page  \\\n",
       "0                                                 NaN   \n",
       "1                                                 NaN   \n",
       "2                                                 NaN   \n",
       "3                                                 NaN   \n",
       "4                                                 NaN   \n",
       "...                                               ...   \n",
       "16102                                             NaN   \n",
       "16103                                             NaN   \n",
       "16104                                             NaN   \n",
       "16105                                             NaN   \n",
       "16106                                             NaN   \n",
       "\n",
       "unique_combinations  view_item & Product Listing Page  \\\n",
       "0                                                 NaN   \n",
       "1                                                 NaN   \n",
       "2                                                 NaN   \n",
       "3                                                 NaN   \n",
       "4                                                 NaN   \n",
       "...                                               ...   \n",
       "16102                                             NaN   \n",
       "16103                                             NaN   \n",
       "16104                                             NaN   \n",
       "16105                                             NaN   \n",
       "16106                                             NaN   \n",
       "\n",
       "unique_combinations  view_item & Sale Product Listing Page  \\\n",
       "0                                                      NaN   \n",
       "1                                                      NaN   \n",
       "2                                                      NaN   \n",
       "3                                                      NaN   \n",
       "4                                                      NaN   \n",
       "...                                                    ...   \n",
       "16102                                                  NaN   \n",
       "16103                                                  NaN   \n",
       "16104                                                  NaN   \n",
       "16105                                                  9.0   \n",
       "16106                                                  NaN   \n",
       "\n",
       "unique_combinations  view_item & Search Results  \\\n",
       "0                                           NaN   \n",
       "1                                           NaN   \n",
       "2                                           NaN   \n",
       "3                                           NaN   \n",
       "4                                           NaN   \n",
       "...                                         ...   \n",
       "16102                                       NaN   \n",
       "16103                                       NaN   \n",
       "16104                                       NaN   \n",
       "16105                                       NaN   \n",
       "16106                                       NaN   \n",
       "\n",
       "unique_combinations  view_item_list & New Product Listing Page  \\\n",
       "0                                                          NaN   \n",
       "1                                                          NaN   \n",
       "2                                                          NaN   \n",
       "3                                                          NaN   \n",
       "4                                                          NaN   \n",
       "...                                                        ...   \n",
       "16102                                                      NaN   \n",
       "16103                                                      NaN   \n",
       "16104                                                      NaN   \n",
       "16105                                                      NaN   \n",
       "16106                                                      NaN   \n",
       "\n",
       "unique_combinations  view_item_list & Product Listing Page  \\\n",
       "0                                                      NaN   \n",
       "1                                                      NaN   \n",
       "2                                                      NaN   \n",
       "3                                                      NaN   \n",
       "4                                                      NaN   \n",
       "...                                                    ...   \n",
       "16102                                                  NaN   \n",
       "16103                                                  NaN   \n",
       "16104                                                  NaN   \n",
       "16105                                                  NaN   \n",
       "16106                                                  NaN   \n",
       "\n",
       "unique_combinations  view_promotion & Home  \\\n",
       "0                                      1.0   \n",
       "1                                      NaN   \n",
       "2                                      4.0   \n",
       "3                                      NaN   \n",
       "4                                      NaN   \n",
       "...                                    ...   \n",
       "16102                                  NaN   \n",
       "16103                                  NaN   \n",
       "16104                                  NaN   \n",
       "16105                                  2.0   \n",
       "16106                                  NaN   \n",
       "\n",
       "unique_combinations  view_promotion & New Product Listing Page  \\\n",
       "0                                                          NaN   \n",
       "1                                                          NaN   \n",
       "2                                                          NaN   \n",
       "3                                                          NaN   \n",
       "4                                                          NaN   \n",
       "...                                                        ...   \n",
       "16102                                                      NaN   \n",
       "16103                                                      NaN   \n",
       "16104                                                      NaN   \n",
       "16105                                                      NaN   \n",
       "16106                                                      NaN   \n",
       "\n",
       "unique_combinations  view_search_results & Search Results  \n",
       "0                                                     NaN  \n",
       "1                                                     NaN  \n",
       "2                                                     NaN  \n",
       "3                                                     NaN  \n",
       "4                                                     NaN  \n",
       "...                                                   ...  \n",
       "16102                                                 NaN  \n",
       "16103                                                 NaN  \n",
       "16104                                                 NaN  \n",
       "16105                                                 NaN  \n",
       "16106                                                 NaN  \n",
       "\n",
       "[16107 rows x 104 columns]"
      ]
     },
     "execution_count": 57,
     "metadata": {},
     "output_type": "execute_result"
    }
   ],
   "source": [
    "features_part1_event_pagenames(df4)"
   ]
  },
  {
   "cell_type": "code",
   "execution_count": null,
   "metadata": {},
   "outputs": [],
   "source": []
  },
  {
   "cell_type": "code",
   "execution_count": null,
   "metadata": {
    "scrolled": true
   },
   "outputs": [],
   "source": [
    "df1.head(2)"
   ]
  },
  {
   "cell_type": "code",
   "execution_count": null,
   "metadata": {},
   "outputs": [],
   "source": [
    "def convert_datatypes_filter(df):\n",
    "    for column in df:\n",
    "        if 'event_date' in column:\n",
    "            df[column] = pd.to_datetime(df[column],yearfirst=True, format='%Y%m%d')\n",
    "        if 'timestamp' in column:\n",
    "            df[column] = pd.to_datetime(df[column], unit='us')\n",
    "        if 'user_pseudo_id' in column:\n",
    "            df[column] = df[column].astype(str)\n",
    "    return df"
   ]
  },
  {
   "cell_type": "code",
   "execution_count": null,
   "metadata": {},
   "outputs": [],
   "source": [
    "df2 = convert_datatypes_filter(df1)"
   ]
  },
  {
   "cell_type": "code",
   "execution_count": null,
   "metadata": {
    "scrolled": true
   },
   "outputs": [],
   "source": [
    "df2 = df2.copy()"
   ]
  },
  {
   "cell_type": "code",
   "execution_count": null,
   "metadata": {},
   "outputs": [],
   "source": [
    "purchasers = list(df2[df2['event_name']=='purchase']['user_pseudo_id'].unique())\n",
    "df2.loc[df2['user_pseudo_id'].isin(purchasers), 'target_variable'] = 1\n",
    "df2['target_variable'] = df2.target_variable.fillna(0)"
   ]
  },
  {
   "cell_type": "code",
   "execution_count": null,
   "metadata": {},
   "outputs": [],
   "source": [
    "def input_target_variable(df:pd.DataFrame) -> pd.DataFrame:\n",
    "    #add target_variable column\n",
    "    purchasers = list(df[df['event_name']=='purchase']['user_pseudo_id'].unique())\n",
    "    df.loc[df['user_pseudo_id'].isin(purchasers), 'target_variable'] = 1\n",
    "    df['target_variable'] = df.target_variable.fillna(0)\n",
    "    df['target_variable'] = df['target_variable'].astype(int)\n",
    "    return df"
   ]
  },
  {
   "cell_type": "code",
   "execution_count": null,
   "metadata": {},
   "outputs": [],
   "source": [
    "df3 = input_target_variable(df2)"
   ]
  },
  {
   "cell_type": "code",
   "execution_count": null,
   "metadata": {},
   "outputs": [],
   "source": [
    "df4= df3.copy()"
   ]
  },
  {
   "cell_type": "code",
   "execution_count": null,
   "metadata": {},
   "outputs": [],
   "source": [
    "df4.shape"
   ]
  },
  {
   "cell_type": "code",
   "execution_count": null,
   "metadata": {},
   "outputs": [],
   "source": [
    "df4.head()"
   ]
  },
  {
   "cell_type": "code",
   "execution_count": null,
   "metadata": {},
   "outputs": [],
   "source": [
    "all_purchases = df4[df4['event_name']=='purchase']\n",
    "all_purchases['amount_purchases'] = 1\n",
    "df_amount_purchases = pd.pivot_table(data=all_purchases, index='user_pseudo_id', values='event_name', aggfunc='count').reset_index().rename(columns={'event_name': 'amount_purchases'})"
   ]
  },
  {
   "cell_type": "code",
   "execution_count": null,
   "metadata": {
    "scrolled": true
   },
   "outputs": [],
   "source": [
    "df_amount_purchases"
   ]
  },
  {
   "cell_type": "code",
   "execution_count": null,
   "metadata": {
    "scrolled": true
   },
   "outputs": [],
   "source": [
    "df5 = df4.merge(df_amount_purchases,on='user_pseudo_id', how='left').fillna(0)"
   ]
  },
  {
   "cell_type": "code",
   "execution_count": null,
   "metadata": {},
   "outputs": [],
   "source": [
    "df5.head()"
   ]
  },
  {
   "cell_type": "code",
   "execution_count": null,
   "metadata": {},
   "outputs": [],
   "source": [
    "all_purchases_timestamp = all_purchases[['user_pseudo_id','event_timestamp']]\n",
    "first_purchase = pd.DataFrame(all_purchases_timestamp.groupby(['user_pseudo_id'])['event_timestamp'].agg('min').reset_index().rename(columns={'event_timestamp': 'date_first_purchase'}))"
   ]
  },
  {
   "cell_type": "code",
   "execution_count": null,
   "metadata": {},
   "outputs": [],
   "source": [
    "first_purchase"
   ]
  },
  {
   "cell_type": "code",
   "execution_count": null,
   "metadata": {},
   "outputs": [],
   "source": [
    "df6 = df5.merge(first_purchase, on='user_pseudo_id', how='left')\n",
    "\n",
    "df6.head()"
   ]
  },
  {
   "cell_type": "code",
   "execution_count": null,
   "metadata": {},
   "outputs": [],
   "source": [
    "df6['newcolumn_id'] = 'ABC' + df6[df6.event_timestamp > df6.date_first_purchase]['user_pseudo_id']"
   ]
  },
  {
   "cell_type": "code",
   "execution_count": null,
   "metadata": {},
   "outputs": [],
   "source": [
    "len(df6['newcolumn_id'].value_counts())"
   ]
  },
  {
   "cell_type": "code",
   "execution_count": null,
   "metadata": {},
   "outputs": [],
   "source": [
    "df6.head()"
   ]
  },
  {
   "cell_type": "code",
   "execution_count": null,
   "metadata": {},
   "outputs": [],
   "source": [
    "df6.shape"
   ]
  },
  {
   "cell_type": "code",
   "execution_count": null,
   "metadata": {},
   "outputs": [],
   "source": [
    "df7=df6.dropna(subset=['newcolumn_id'])"
   ]
  },
  {
   "cell_type": "code",
   "execution_count": null,
   "metadata": {},
   "outputs": [],
   "source": [
    "df7.head()"
   ]
  },
  {
   "cell_type": "code",
   "execution_count": null,
   "metadata": {},
   "outputs": [],
   "source": [
    "df7.shape"
   ]
  },
  {
   "cell_type": "code",
   "execution_count": null,
   "metadata": {},
   "outputs": [],
   "source": [
    "df8 = df6[df6['newcolumn_id'].isna()]"
   ]
  },
  {
   "cell_type": "code",
   "execution_count": null,
   "metadata": {},
   "outputs": [],
   "source": [
    "df8.shape"
   ]
  },
  {
   "cell_type": "code",
   "execution_count": null,
   "metadata": {},
   "outputs": [],
   "source": [
    "df8.head()"
   ]
  },
  {
   "cell_type": "code",
   "execution_count": null,
   "metadata": {},
   "outputs": [],
   "source": [
    "df1 = df.dropna(subset=['newcolumn_id'])\n",
    "df2 = df1[df1['newcolumn_id'].isna()]\n",
    "df2['newcolumn_id'] = df2['user_pseudo_id']"
   ]
  },
  {
   "cell_type": "code",
   "execution_count": null,
   "metadata": {},
   "outputs": [],
   "source": [
    "d"
   ]
  },
  {
   "cell_type": "code",
   "execution_count": null,
   "metadata": {},
   "outputs": [],
   "source": []
  },
  {
   "cell_type": "code",
   "execution_count": null,
   "metadata": {},
   "outputs": [],
   "source": [
    "df_final = pd.concat([df8 , df7])"
   ]
  },
  {
   "cell_type": "code",
   "execution_count": null,
   "metadata": {
    "scrolled": true
   },
   "outputs": [],
   "source": [
    "df_final.head()"
   ]
  },
  {
   "cell_type": "code",
   "execution_count": null,
   "metadata": {},
   "outputs": [],
   "source": []
  },
  {
   "cell_type": "code",
   "execution_count": null,
   "metadata": {},
   "outputs": [],
   "source": [
    "def slicing_purchasers(df:pd.DataFrame) -> pd.DataFrame:\n",
    "    #Create DF with amount purchases per User Pseudo Id\n",
    "    all_purchases = df[df['event_name']=='purchase']\n",
    "    all_purchases['amount_purchases'] = 1\n",
    "    df_amount_purchases = pd.pivot_table(data=all_purchases, index='user_pseudo_id', values='event_name', aggfunc='count').reset_index().rename(columns={'event_name': 'amount_purchases'})\n",
    "    #Merge with main DF\n",
    "    df1 = df.merge(df_amount_purchases,on='user_pseudo_id', how='outer').fillna(0)\n",
    "    df1['amount_purchases'] = df1['amount_purchases'].astype(int)\n",
    "    #New column with timestamp of first purchase\n",
    "    all_purchases_timestamp = all_purchases[['user_pseudo_id','event_timestamp']]\n",
    "    first_purchase = pd.DataFrame(all_purchases_timestamp.groupby(['user_pseudo_id'])['event_timestamp'].agg('min').reset_index().rename(columns={'event_timestamp': 'date_first_purchase'}))\n",
    "    #Merge with main DF\n",
    "    df2 = df1.merge(first_purchase, on='user_pseudo_id', how='outer')\n",
    "    #For the events of a user that happened after their first purchase, add a prefix (ABC)\n",
    "    df2['newcolumn_id'] = 'ABC' + df2[df2.event_timestamp > df2.date_first_purchase]['user_pseudo_id']\n",
    "    df3 = df2.dropna(subset=['newcolumn_id'])\n",
    "    df2 = df2[df2['newcolumn_id'].isna()]\n",
    "    df2 = df2.drop(columns=['newcolumn_id'])\n",
    "    df4 = df3.drop(columns=['user_pseudo_id'])\n",
    "    df4['user_pseudo_id'] = df4['newcolumn_id']\n",
    "    df_final = pd.concat([df2 , df4])\n",
    "    df_final.reset_index(inplace=True, drop=True)\n",
    "    #include previous purchase column\n",
    "    df_final['previous_purchase?'] = np.where(df_final['user_pseudo_id'].str.contains('ABC'), 1, 0)\n",
    "    df_final = df_final.drop(columns=['newcolumn_id'])\n",
    "    #if previous purchase is 1 change target variable to 0\n",
    "    df_final.loc[df_final['previous_purchase?'] == 1, 'target_variable'] = 0\n",
    "    return df_final\n",
    "    \n",
    "    \n",
    "    \n",
    "    "
   ]
  },
  {
   "cell_type": "code",
   "execution_count": null,
   "metadata": {},
   "outputs": [],
   "source": [
    "slicing_purchasers(df4).sort_values(by='amount_purchases', ascending=False).head(100)"
   ]
  },
  {
   "cell_type": "code",
   "execution_count": null,
   "metadata": {},
   "outputs": [],
   "source": []
  },
  {
   "cell_type": "code",
   "execution_count": null,
   "metadata": {},
   "outputs": [],
   "source": []
  },
  {
   "cell_type": "code",
   "execution_count": null,
   "metadata": {},
   "outputs": [],
   "source": []
  },
  {
   "cell_type": "code",
   "execution_count": null,
   "metadata": {},
   "outputs": [],
   "source": [
    "def input_target_variable(df:pd.DataFrame) -> pd.DataFrame:\n",
    "    #add target_variable column\n",
    "    df['target_variable'] = None\n",
    "    #create a list with all purchasers\n",
    "    purchasers = list(df[df['event_name']=='purchase']['user_pseudo_id'])\n",
    "    for i in purchasers:\n",
    "        for index, row in df[df['user_pseudo_id']==i].iterrows():\n",
    "            df['target_variable'].iloc[index]=1\n",
    "     #Fill the NaNs with 0s\n",
    "    df['target_variable'] = df.target_variable.fillna(0)\n",
    "    return df"
   ]
  },
  {
   "cell_type": "code",
   "execution_count": null,
   "metadata": {},
   "outputs": [],
   "source": [
    "df1 = input_target_variable(df)"
   ]
  },
  {
   "cell_type": "code",
   "execution_count": null,
   "metadata": {},
   "outputs": [],
   "source": [
    "df1"
   ]
  },
  {
   "cell_type": "code",
   "execution_count": null,
   "metadata": {},
   "outputs": [],
   "source": [
    "def slicing_purchasers(df:pd.DataFrame) -> pd.DataFrame:\n",
    "    df['event_timestamp'] = pd.to_datetime(df['event_timestamp'], unit='us')\n",
    "    df['user_pseudo_id'] = df.user_pseudo_id.astype(float)\n",
    "    df['user_pseudo_id'] = df['user_pseudo_id'].map('{:.7f}'.format)\n",
    "    all_purchases = df[df['event_name']=='purchase']\n",
    "    all_purchases['amount_purchases'] = 1\n",
    "    df_amount_purchases = pd.pivot_table(data=all_purchases, index='user_pseudo_id', values='event_name', aggfunc='count').reset_index().rename(columns={'event_name': 'amount_purchases'})\n",
    "    new_df = df.merge(df_amount_purchases,on='user_pseudo_id', how='outer').fillna(0)\n",
    "    first_purchase = new_df[new_df['event_name']=='purchase'][['user_pseudo_id','event_timestamp']]\n",
    "    first_purchase_groupedmax = first_purchase.groupby(['user_pseudo_id'])['event_timestamp'].agg('min')\n",
    "    first_purchase_groupedmax\n",
    "    new_new_df = new_df.merge(first_purchase_groupedmax, on='user_pseudo_id', how='outer').sort_values(by=['amount_purchases'], ascending=False)\n",
    "    new_new_df['newcolumn_id'] = 'ABC' + new_new_df[new_new_df.event_timestamp_x > new_new_df.event_timestamp_y]['user_pseudo_id']\n",
    "    new_new_new_df = new_new_df.dropna(subset=['newcolumn_id'])\n",
    "    new_new_new_new_df = new_new_df[new_new_df['newcolumn_id'].isna()]\n",
    "    new_new_new_new_df['newcolumn_id'] = new_new_new_new_df['user_pseudo_id']\n",
    "    final = pd.concat([new_new_new_df , new_new_new_new_df])\n",
    "    final.reset_index(inplace=True, drop=True)\n",
    "    final['previous_purchase?']=  np.where(final['newcolumn_id'].str.contains('ABC'), 1, 0)\n",
    "    final.drop(columns=['user_pseudo_id'], inplace=True)\n",
    "    final['user_pseudo_id'] = final['newcolumn_id']\n",
    "    final.drop(columns=['newcolumn_id'], inplace=True)\n",
    "    return final"
   ]
  },
  {
   "cell_type": "code",
   "execution_count": null,
   "metadata": {},
   "outputs": [],
   "source": [
    "slicing_purchasers(df1)"
   ]
  },
  {
   "cell_type": "code",
   "execution_count": null,
   "metadata": {},
   "outputs": [],
   "source": []
  },
  {
   "cell_type": "code",
   "execution_count": null,
   "metadata": {},
   "outputs": [],
   "source": []
  },
  {
   "cell_type": "code",
   "execution_count": null,
   "metadata": {},
   "outputs": [],
   "source": []
  },
  {
   "cell_type": "code",
   "execution_count": null,
   "metadata": {},
   "outputs": [],
   "source": []
  },
  {
   "cell_type": "code",
   "execution_count": null,
   "metadata": {},
   "outputs": [],
   "source": []
  },
  {
   "cell_type": "code",
   "execution_count": null,
   "metadata": {},
   "outputs": [],
   "source": []
  },
  {
   "cell_type": "code",
   "execution_count": null,
   "metadata": {},
   "outputs": [],
   "source": []
  },
  {
   "cell_type": "code",
   "execution_count": null,
   "metadata": {},
   "outputs": [],
   "source": []
  },
  {
   "cell_type": "code",
   "execution_count": null,
   "metadata": {},
   "outputs": [],
   "source": []
  },
  {
   "cell_type": "code",
   "execution_count": null,
   "metadata": {},
   "outputs": [],
   "source": []
  },
  {
   "cell_type": "code",
   "execution_count": null,
   "metadata": {},
   "outputs": [],
   "source": []
  },
  {
   "cell_type": "code",
   "execution_count": null,
   "metadata": {},
   "outputs": [],
   "source": []
  },
  {
   "cell_type": "code",
   "execution_count": null,
   "metadata": {},
   "outputs": [],
   "source": []
  },
  {
   "cell_type": "code",
   "execution_count": null,
   "metadata": {},
   "outputs": [],
   "source": []
  },
  {
   "cell_type": "code",
   "execution_count": null,
   "metadata": {},
   "outputs": [],
   "source": []
  },
  {
   "cell_type": "code",
   "execution_count": null,
   "metadata": {},
   "outputs": [],
   "source": []
  },
  {
   "cell_type": "code",
   "execution_count": null,
   "metadata": {},
   "outputs": [],
   "source": []
  },
  {
   "cell_type": "code",
   "execution_count": null,
   "metadata": {},
   "outputs": [],
   "source": []
  },
  {
   "cell_type": "code",
   "execution_count": null,
   "metadata": {},
   "outputs": [],
   "source": []
  },
  {
   "cell_type": "code",
   "execution_count": null,
   "metadata": {},
   "outputs": [],
   "source": []
  },
  {
   "cell_type": "code",
   "execution_count": null,
   "metadata": {},
   "outputs": [],
   "source": []
  },
  {
   "cell_type": "code",
   "execution_count": null,
   "metadata": {},
   "outputs": [],
   "source": []
  },
  {
   "cell_type": "code",
   "execution_count": null,
   "metadata": {},
   "outputs": [],
   "source": []
  },
  {
   "cell_type": "code",
   "execution_count": null,
   "metadata": {},
   "outputs": [],
   "source": []
  },
  {
   "cell_type": "code",
   "execution_count": null,
   "metadata": {},
   "outputs": [],
   "source": []
  },
  {
   "cell_type": "code",
   "execution_count": null,
   "metadata": {},
   "outputs": [],
   "source": []
  },
  {
   "cell_type": "code",
   "execution_count": null,
   "metadata": {},
   "outputs": [],
   "source": []
  },
  {
   "cell_type": "code",
   "execution_count": null,
   "metadata": {},
   "outputs": [],
   "source": []
  },
  {
   "cell_type": "code",
   "execution_count": null,
   "metadata": {},
   "outputs": [],
   "source": []
  },
  {
   "cell_type": "code",
   "execution_count": null,
   "metadata": {},
   "outputs": [],
   "source": []
  },
  {
   "cell_type": "code",
   "execution_count": null,
   "metadata": {},
   "outputs": [],
   "source": [
    "df1"
   ]
  },
  {
   "cell_type": "code",
   "execution_count": null,
   "metadata": {},
   "outputs": [],
   "source": [
    "df1['user_pseudo_id'] = df1.user_pseudo_id.astype(float)"
   ]
  },
  {
   "cell_type": "code",
   "execution_count": null,
   "metadata": {
    "scrolled": true
   },
   "outputs": [],
   "source": [
    "df1['user_pseudo_id'] = df1['user_pseudo_id'].map('{:.7f}'.format)"
   ]
  },
  {
   "cell_type": "code",
   "execution_count": null,
   "metadata": {},
   "outputs": [],
   "source": [
    "all_purchases = df1[df1['event_name']=='purchase']\n",
    "all_purchases['amount_purchases'] = 1\n",
    "all_purchases"
   ]
  },
  {
   "cell_type": "code",
   "execution_count": null,
   "metadata": {},
   "outputs": [],
   "source": [
    "df_amount_purchases = pd.pivot_table(data=all_purchases, index='user_pseudo_id', values='event_name', aggfunc='count').reset_index().rename(columns={'event_name': 'amount_purchases'})\n",
    "df_amount_purchases"
   ]
  },
  {
   "cell_type": "code",
   "execution_count": null,
   "metadata": {},
   "outputs": [],
   "source": [
    "new_df = df1.merge(df_amount_purchases,on='user_pseudo_id', how='outer').fillna(0)"
   ]
  },
  {
   "cell_type": "code",
   "execution_count": null,
   "metadata": {},
   "outputs": [],
   "source": [
    "new_df.sort_values(by=['amount_purchases'], ascending=False)"
   ]
  },
  {
   "cell_type": "code",
   "execution_count": null,
   "metadata": {},
   "outputs": [],
   "source": [
    "new_df['date_first_purchase'] = first_purchase_groupedmax"
   ]
  },
  {
   "cell_type": "code",
   "execution_count": null,
   "metadata": {},
   "outputs": [],
   "source": [
    "first_purchase = new_df[new_df['event_name']=='purchase'][['user_pseudo_id','event_timestamp']]\n",
    "first_purchase_groupedmax = first_purchase.groupby(['user_pseudo_id'])['event_timestamp'].agg('min')\n",
    "first_purchase_groupedmax\n",
    "#last_event.rename(columns={'event_timestamp':'event_timestamp_purchase'},inplace=True)"
   ]
  },
  {
   "cell_type": "code",
   "execution_count": null,
   "metadata": {
    "scrolled": true
   },
   "outputs": [],
   "source": [
    "new_new_df = new_df.merge(first_purchase_groupedmax, on='user_pseudo_id', how='outer').sort_values(by=['amount_purchases'], ascending=False)\n",
    "new_new_df"
   ]
  },
  {
   "cell_type": "code",
   "execution_count": null,
   "metadata": {},
   "outputs": [],
   "source": [
    "#np.where(new_new_df[new_new_df.event_timestamp_x > new_new_df.event_timestamp_y], 'ABC' + new_new_df[new_new_df.event_timestamp_x > new_new_df.event_timestamp_y]['user_pseudo_id'],['user_pseudo_id'])"
   ]
  },
  {
   "cell_type": "code",
   "execution_count": null,
   "metadata": {},
   "outputs": [],
   "source": [
    "#if new_new_df[new_new_df.event_timestamp_x > new_new_df.event_timestamp_y]:\n",
    "#    'ABC' + new_new_df['user_pseudo_id']\n",
    "#else:\n",
    "#    pass"
   ]
  },
  {
   "cell_type": "code",
   "execution_count": null,
   "metadata": {
    "scrolled": true
   },
   "outputs": [],
   "source": [
    "len('ABC' + new_new_df[new_new_df.event_timestamp_x > new_new_df.event_timestamp_y]['user_pseudo_id'].unique())"
   ]
  },
  {
   "cell_type": "code",
   "execution_count": null,
   "metadata": {},
   "outputs": [],
   "source": [
    "new_new_df['newcolumn_id'] = 'ABC' + new_new_df[new_new_df.event_timestamp_x > new_new_df.event_timestamp_y]['user_pseudo_id']"
   ]
  },
  {
   "cell_type": "code",
   "execution_count": null,
   "metadata": {},
   "outputs": [],
   "source": [
    "new_new_new_df = new_new_df.dropna(subset=['newcolumn_id'])\n",
    "new_new_new_df"
   ]
  },
  {
   "cell_type": "code",
   "execution_count": null,
   "metadata": {
    "scrolled": true
   },
   "outputs": [],
   "source": [
    "new_new_new_new_df = new_new_df[new_new_df['newcolumn_id'].isna()]\n",
    "new_new_new_new_df['newcolumn_id'] = new_new_new_new_df['user_pseudo_id']"
   ]
  },
  {
   "cell_type": "code",
   "execution_count": null,
   "metadata": {
    "scrolled": true
   },
   "outputs": [],
   "source": [
    "final = pd.concat([new_new_new_df , new_new_new_new_df])"
   ]
  },
  {
   "cell_type": "code",
   "execution_count": null,
   "metadata": {},
   "outputs": [],
   "source": [
    "new_new_df.shape"
   ]
  },
  {
   "cell_type": "code",
   "execution_count": null,
   "metadata": {},
   "outputs": [],
   "source": [
    "#new_new_df.loc[new_new_df[new_new_df.event_timestamp_x > new_new_df.event_timestamp_y], new_new_df['user_pseudo_id']] = 'ABC' + new_new_df['user_pseudo_id']\n"
   ]
  },
  {
   "cell_type": "code",
   "execution_count": null,
   "metadata": {},
   "outputs": [],
   "source": [
    "final.reset_index(inplace=True, drop=True)"
   ]
  },
  {
   "cell_type": "code",
   "execution_count": null,
   "metadata": {},
   "outputs": [],
   "source": [
    "final"
   ]
  },
  {
   "cell_type": "code",
   "execution_count": null,
   "metadata": {},
   "outputs": [],
   "source": [
    "final['previous_purchase?']=  np.where(final['newcolumn_id'].str.contains('ABC'), 1, 0)\n",
    "final"
   ]
  },
  {
   "cell_type": "code",
   "execution_count": null,
   "metadata": {},
   "outputs": [],
   "source": [
    "len(final['newcolumn_id'].unique())"
   ]
  },
  {
   "cell_type": "code",
   "execution_count": null,
   "metadata": {},
   "outputs": [],
   "source": [
    "len(final['user_pseudo_id'].unique())"
   ]
  },
  {
   "cell_type": "code",
   "execution_count": null,
   "metadata": {},
   "outputs": [],
   "source": [
    "final"
   ]
  },
  {
   "cell_type": "code",
   "execution_count": null,
   "metadata": {},
   "outputs": [],
   "source": []
  },
  {
   "cell_type": "code",
   "execution_count": null,
   "metadata": {},
   "outputs": [],
   "source": []
  },
  {
   "cell_type": "code",
   "execution_count": null,
   "metadata": {},
   "outputs": [],
   "source": []
  },
  {
   "cell_type": "code",
   "execution_count": null,
   "metadata": {},
   "outputs": [],
   "source": []
  },
  {
   "cell_type": "code",
   "execution_count": null,
   "metadata": {},
   "outputs": [],
   "source": []
  },
  {
   "cell_type": "code",
   "execution_count": null,
   "metadata": {},
   "outputs": [],
   "source": []
  },
  {
   "cell_type": "code",
   "execution_count": null,
   "metadata": {},
   "outputs": [],
   "source": []
  },
  {
   "cell_type": "code",
   "execution_count": null,
   "metadata": {},
   "outputs": [],
   "source": [
    "# abcd = 'A' + XYZ['user_pseudo_id']"
   ]
  },
  {
   "cell_type": "code",
   "execution_count": null,
   "metadata": {},
   "outputs": [],
   "source": [
    "new_new_df[new_new_df.event_timestamp_x > new_new_df.event_timestamp_y]['user_pseudo_id']"
   ]
  },
  {
   "cell_type": "code",
   "execution_count": null,
   "metadata": {},
   "outputs": [],
   "source": []
  },
  {
   "cell_type": "code",
   "execution_count": null,
   "metadata": {},
   "outputs": [],
   "source": []
  },
  {
   "cell_type": "code",
   "execution_count": null,
   "metadata": {},
   "outputs": [],
   "source": [
    "new_new_df[new_new_df['user_pseudo_id']=='10295267.8818269']"
   ]
  },
  {
   "cell_type": "code",
   "execution_count": null,
   "metadata": {},
   "outputs": [],
   "source": [
    "new_df.sort_values(by=['amount_purchases'], ascending=False)"
   ]
  },
  {
   "cell_type": "code",
   "execution_count": null,
   "metadata": {},
   "outputs": [],
   "source": []
  },
  {
   "cell_type": "code",
   "execution_count": null,
   "metadata": {},
   "outputs": [],
   "source": [
    "def delete_transactions_after_purchase(df:pd.DataFrame) -> pd.DataFrame:\n",
    "    #Make the timestamp a timestamp\n",
    "    df['event_timestamp'] = pd.to_datetime(df['event_timestamp'], unit='us')\n",
    "    #Create a new DF with the timestamp of purchase\n",
    "    last_event = df[df['event_name']=='purchase'][['user_pseudo_id','event_timestamp']]\n",
    "    last_event.rename(columns={'event_timestamp':'event_timestamp_purchase'},inplace=True)\n",
    "    #Merge last_event with df\n",
    "    df = df.merge(last_event, on='user_pseudo_id', how='left')\n",
    "    #Drop all rows with 'event_timestamp' > 'event_timestamp_purchase'\n",
    "    df = df.drop(df[df.event_timestamp > df.event_timestamp_purchase].index)\n",
    "    return df"
   ]
  },
  {
   "cell_type": "code",
   "execution_count": null,
   "metadata": {},
   "outputs": [],
   "source": []
  },
  {
   "cell_type": "code",
   "execution_count": null,
   "metadata": {},
   "outputs": [],
   "source": []
  },
  {
   "cell_type": "code",
   "execution_count": null,
   "metadata": {},
   "outputs": [],
   "source": []
  },
  {
   "cell_type": "code",
   "execution_count": null,
   "metadata": {},
   "outputs": [],
   "source": [
    "TEEEST = new_df[new_df['event_name']=='purchase'] [['event_params_ga_session_id' , 'user_pseudo_id', 'event_params_ga_session_number', 'event_name']]\n",
    "TEEEST"
   ]
  },
  {
   "cell_type": "code",
   "execution_count": null,
   "metadata": {},
   "outputs": [],
   "source": [
    "pd.pivot_table(data=TEEEST, index='user_pseudo_id', values='event_name', columns='event_params_ga_session_number' ,aggfunc='count')"
   ]
  },
  {
   "cell_type": "code",
   "execution_count": null,
   "metadata": {},
   "outputs": [],
   "source": []
  },
  {
   "cell_type": "code",
   "execution_count": null,
   "metadata": {},
   "outputs": [],
   "source": []
  },
  {
   "cell_type": "code",
   "execution_count": null,
   "metadata": {},
   "outputs": [],
   "source": []
  },
  {
   "cell_type": "code",
   "execution_count": null,
   "metadata": {},
   "outputs": [],
   "source": []
  },
  {
   "cell_type": "code",
   "execution_count": null,
   "metadata": {},
   "outputs": [],
   "source": []
  },
  {
   "cell_type": "code",
   "execution_count": null,
   "metadata": {},
   "outputs": [],
   "source": [
    "test = new_df[new_df['user_pseudo_id']=='10295267.8818269']\n",
    "test"
   ]
  },
  {
   "cell_type": "code",
   "execution_count": null,
   "metadata": {},
   "outputs": [],
   "source": []
  },
  {
   "cell_type": "code",
   "execution_count": null,
   "metadata": {},
   "outputs": [],
   "source": []
  },
  {
   "cell_type": "code",
   "execution_count": null,
   "metadata": {
    "scrolled": true
   },
   "outputs": [],
   "source": [
    "test['event_params_ga_session_number'].max()"
   ]
  },
  {
   "cell_type": "code",
   "execution_count": null,
   "metadata": {},
   "outputs": [],
   "source": [
    "test"
   ]
  },
  {
   "cell_type": "code",
   "execution_count": null,
   "metadata": {},
   "outputs": [],
   "source": []
  },
  {
   "cell_type": "code",
   "execution_count": null,
   "metadata": {},
   "outputs": [],
   "source": []
  },
  {
   "cell_type": "code",
   "execution_count": null,
   "metadata": {},
   "outputs": [],
   "source": []
  },
  {
   "cell_type": "code",
   "execution_count": null,
   "metadata": {},
   "outputs": [],
   "source": []
  },
  {
   "cell_type": "code",
   "execution_count": null,
   "metadata": {
    "scrolled": true
   },
   "outputs": [],
   "source": [
    "df1[df1['user_pseudo_id']=='10295267.8818269']"
   ]
  },
  {
   "cell_type": "code",
   "execution_count": null,
   "metadata": {},
   "outputs": [],
   "source": []
  },
  {
   "cell_type": "code",
   "execution_count": null,
   "metadata": {},
   "outputs": [],
   "source": []
  },
  {
   "cell_type": "code",
   "execution_count": null,
   "metadata": {},
   "outputs": [],
   "source": []
  },
  {
   "cell_type": "code",
   "execution_count": null,
   "metadata": {},
   "outputs": [],
   "source": []
  },
  {
   "cell_type": "code",
   "execution_count": null,
   "metadata": {},
   "outputs": [],
   "source": []
  },
  {
   "cell_type": "code",
   "execution_count": null,
   "metadata": {},
   "outputs": [],
   "source": []
  },
  {
   "cell_type": "code",
   "execution_count": null,
   "metadata": {},
   "outputs": [],
   "source": []
  },
  {
   "cell_type": "code",
   "execution_count": null,
   "metadata": {},
   "outputs": [],
   "source": []
  },
  {
   "cell_type": "code",
   "execution_count": null,
   "metadata": {},
   "outputs": [],
   "source": []
  },
  {
   "cell_type": "code",
   "execution_count": null,
   "metadata": {},
   "outputs": [],
   "source": []
  },
  {
   "cell_type": "code",
   "execution_count": null,
   "metadata": {},
   "outputs": [],
   "source": []
  },
  {
   "cell_type": "code",
   "execution_count": null,
   "metadata": {},
   "outputs": [],
   "source": []
  },
  {
   "cell_type": "code",
   "execution_count": null,
   "metadata": {
    "scrolled": true
   },
   "outputs": [],
   "source": [
    "df1 = input_target_variable(df)\n",
    "df1"
   ]
  },
  {
   "cell_type": "code",
   "execution_count": null,
   "metadata": {},
   "outputs": [],
   "source": [
    "df1['event_name'].unique()"
   ]
  },
  {
   "cell_type": "code",
   "execution_count": null,
   "metadata": {},
   "outputs": [],
   "source": [
    "df1.columns"
   ]
  },
  {
   "cell_type": "code",
   "execution_count": null,
   "metadata": {},
   "outputs": [],
   "source": [
    "df1['user_pseudo_id'].dtypes"
   ]
  },
  {
   "cell_type": "code",
   "execution_count": null,
   "metadata": {},
   "outputs": [],
   "source": [
    "df1['user_pseudo_id'] = df1['user_pseudo_id'].map('{:.7f}'.format)"
   ]
  },
  {
   "cell_type": "code",
   "execution_count": null,
   "metadata": {
    "scrolled": true
   },
   "outputs": [],
   "source": [
    "df1[df1['event_name']=='purchase'][['user_pseudo_id','event_params_ga_session_number']]"
   ]
  },
  {
   "cell_type": "code",
   "execution_count": null,
   "metadata": {},
   "outputs": [],
   "source": [
    "10295267.8818269"
   ]
  },
  {
   "cell_type": "code",
   "execution_count": null,
   "metadata": {},
   "outputs": [],
   "source": [
    "dfzzz = dfzzz[dfzzz['user_pseudo_id']=='10295267.8818269'][['event_timestamp','event_name','event_params_ga_session_number','event_params_ga_session_id','ecommerce_total_item_quantity','ecommerce_unique_items', 'target_variable']]"
   ]
  },
  {
   "cell_type": "code",
   "execution_count": null,
   "metadata": {},
   "outputs": [],
   "source": [
    "dfzzz = dfzzz[dfzzz['event_name'] == 'purchase'][['event_timestamp','event_name','event_params_ga_session_number','event_params_ga_session_id','ecommerce_total_item_quantity','ecommerce_unique_items','target_variable']]"
   ]
  },
  {
   "cell_type": "code",
   "execution_count": null,
   "metadata": {},
   "outputs": [],
   "source": [
    "dfzzz.sort_values(by=['event_timestamp']).sort_values(by=['event_timestamp'])"
   ]
  },
  {
   "cell_type": "code",
   "execution_count": null,
   "metadata": {},
   "outputs": [],
   "source": []
  },
  {
   "cell_type": "code",
   "execution_count": null,
   "metadata": {},
   "outputs": [],
   "source": []
  },
  {
   "cell_type": "code",
   "execution_count": null,
   "metadata": {},
   "outputs": [],
   "source": [
    "df_x1 = df1[df1['user_pseudo_id']=='10295267.8818269'][['event_timestamp','event_name','event_params_ga_session_number','event_params_ga_session_id','ecommerce_total_item_quantity','ecommerce_unique_items', 'target_variable']]"
   ]
  },
  {
   "cell_type": "code",
   "execution_count": null,
   "metadata": {},
   "outputs": [],
   "source": [
    "df_x1['event_timestamp'] = pd.to_datetime(df_x1['event_timestamp'], unit='us')"
   ]
  },
  {
   "cell_type": "code",
   "execution_count": null,
   "metadata": {},
   "outputs": [],
   "source": [
    "df_x2 = df_x1[df_x1['event_name'] == 'purchase'][['event_timestamp','event_name','event_params_ga_session_number','event_params_ga_session_id','ecommerce_total_item_quantity','ecommerce_unique_items','target_variable']]"
   ]
  },
  {
   "cell_type": "code",
   "execution_count": null,
   "metadata": {
    "scrolled": true
   },
   "outputs": [],
   "source": [
    "df_x2.sort_values(by=['event_timestamp'])"
   ]
  },
  {
   "cell_type": "code",
   "execution_count": null,
   "metadata": {},
   "outputs": [],
   "source": [
    "# if purchase count is => 1 where GASession ID(0) = GASessionID(0) --> Create a columns with a 1!\n",
    "# if purchase count is => 1 where GASession ID(0) =! GASessionID(1) --> Create a another columns with a 1!\n",
    "\n",
    "\n",
    "\n",
    "\n",
    "\n",
    "\n"
   ]
  },
  {
   "cell_type": "code",
   "execution_count": null,
   "metadata": {},
   "outputs": [],
   "source": []
  },
  {
   "cell_type": "code",
   "execution_count": null,
   "metadata": {},
   "outputs": [],
   "source": [
    "#did the user had purchases in 1 different session\n",
    "\n",
    "df1['previous_transaction'] = None"
   ]
  },
  {
   "cell_type": "code",
   "execution_count": null,
   "metadata": {},
   "outputs": [],
   "source": []
  },
  {
   "cell_type": "code",
   "execution_count": null,
   "metadata": {},
   "outputs": [],
   "source": []
  },
  {
   "cell_type": "code",
   "execution_count": null,
   "metadata": {},
   "outputs": [],
   "source": []
  },
  {
   "cell_type": "code",
   "execution_count": null,
   "metadata": {},
   "outputs": [],
   "source": []
  },
  {
   "cell_type": "code",
   "execution_count": null,
   "metadata": {},
   "outputs": [],
   "source": []
  },
  {
   "cell_type": "code",
   "execution_count": null,
   "metadata": {},
   "outputs": [],
   "source": [
    "def delete_transactions_after_purchase(df:pd.DataFrame) -> pd.DataFrame:\n",
    "    #Make the timestamp a timestamp\n",
    "    df['event_timestamp'] = pd.to_datetime(df['event_timestamp'], unit='us')\n",
    "    #Create a new DF with the timestamp of purchase\n",
    "    last_event = df[df['event_name']=='purchase'][['user_pseudo_id','event_timestamp']]\n",
    "    last_event.rename(columns={'event_timestamp':'event_timestamp_purchase'},inplace=True)\n",
    "    #Merge last_event with df\n",
    "    df = df.merge(last_event, on='user_pseudo_id', how='left')\n",
    "    #Drop all rows with 'event_timestamp' > 'event_timestamp_purchase'\n",
    "    df = df.drop(df[df.event_timestamp > df.event_timestamp_purchase].index)\n",
    "    return df"
   ]
  },
  {
   "cell_type": "code",
   "execution_count": null,
   "metadata": {},
   "outputs": [],
   "source": [
    "df2 = delete_transactions_after_purchase(df1)\n",
    "df2"
   ]
  },
  {
   "cell_type": "code",
   "execution_count": null,
   "metadata": {},
   "outputs": [],
   "source": [
    "def creation_dataframe_and_own_features_(df:pd.DataFrame) -> pd.DataFrame:\n",
    "    #visits per user_pseudo_id\n",
    "    df_visits = df.groupby('user_pseudo_id').agg({'event_params_ga_session_number':'max'}).reset_index().rename(columns={'event_params_ga_session_number': 'visits_per_user_pseudo_id'})\n",
    "    #pageviews per user_pseudo_id\n",
    "    df_pageviews_filter = df[df['event_name']=='page_view'][['user_pseudo_id', 'event_name','event_date' ]]\n",
    "    df_pageviews = pd.pivot_table(data=df_pageviews_filter, index='user_pseudo_id', columns='event_name', aggfunc='count').droplevel(level=1, axis=1).reset_index().rename(columns={'event_date': 'pageviews_per_user_pseudo_id'})\n",
    "    #events per user_pseudo_id\n",
    "    df_events = df.groupby('user_pseudo_id').agg({'event_params_ga_session_number':'count'}).reset_index().rename(columns={'event_params_ga_session_number': 'events_per_visitor'})\n",
    "    #engagement time per user_pseudo_id\n",
    "    df_engagement_time = df.groupby('user_pseudo_id').agg({'event_params_engagement_time_msec':'sum'}).reset_index().rename(columns={'event_params_engagement_time_msec': 'engagement_time_per_visitor'})\n",
    "    #clicks per user_pseudo_id\n",
    "    df_clicks_filter = df[df['event_name']=='click'][['user_pseudo_id', 'event_name','event_date' ]]\n",
    "    df_clicks = pd.pivot_table(data=df_clicks_filter, index='user_pseudo_id', columns='event_name', aggfunc='count').droplevel(level=1, axis=1).reset_index().rename(columns={'event_date': 'clicks_per_visitor'})\n",
    "    #engagement per user_pseudo_id\n",
    "    df_user_engagement_filter = df[df['event_name']=='user_engagement'][['user_pseudo_id', 'event_name','event_date' ]]\n",
    "    df_user_engagements = pd.pivot_table(data=df_user_engagement_filter, index='user_pseudo_id', columns='event_name', aggfunc='count').droplevel(level=1, axis=1).reset_index().rename(columns={'event_date': 'user_engagements_per_visitor'})\n",
    "    #scrollings per user_pseudo_id\n",
    "    df_scrollings_filter = df[df['event_name']=='scroll'][['user_pseudo_id', 'event_name','event_date' ]]\n",
    "    df_scrollings = pd.pivot_table(data=df_scrollings_filter, index='user_pseudo_id', columns='event_name', aggfunc='count').droplevel(level=1, axis=1).reset_index().rename(columns={'event_date': 'scrolls_per_visitor'})\n",
    "\n",
    "    #Merge all of it\n",
    "    df_level_user_pseudo_id = df_visits.merge(df_pageviews,on='user_pseudo_id', how='outer').merge(df_events,on='user_pseudo_id', how='outer').merge(df_engagement_time,on='user_pseudo_id', how='outer').merge(df_clicks,on='user_pseudo_id', how='outer').merge(df_user_engagements,on='user_pseudo_id', how='outer').merge(df_scrollings,on='user_pseudo_id', how='outer')\n",
    "    return df_level_user_pseudo_id"
   ]
  },
  {
   "cell_type": "code",
   "execution_count": null,
   "metadata": {},
   "outputs": [],
   "source": [
    "df3 = creation_dataframe_and_own_features_(df2)\n",
    "df3"
   ]
  },
  {
   "cell_type": "code",
   "execution_count": null,
   "metadata": {},
   "outputs": [],
   "source": [
    "def features_part1_event_pagenames(df:pd.DataFrame) -> pd.DataFrame:\n",
    "    #Categorize Page Titles\n",
    "    df = page_category(df)\n",
    "    #Create column with unique combinations\n",
    "    df['unique_combinations'] = df['event_name']+ ' & ' +df['Page Category']\n",
    "    df = df.set_index('user_pseudo_id')\n",
    "    df = df[['unique_combinations', 'Page Category']]\n",
    "    df = pd.pivot_table(df, values='Page Category', index='user_pseudo_id', columns='unique_combinations',aggfunc='count')\n",
    "    return df"
   ]
  },
  {
   "cell_type": "code",
   "execution_count": null,
   "metadata": {},
   "outputs": [],
   "source": [
    "df4 = features_part1_event_pagenames(df)\n",
    "df4"
   ]
  },
  {
   "cell_type": "code",
   "execution_count": null,
   "metadata": {},
   "outputs": [],
   "source": [
    "df_merge = df4.merge(df3, how='outer',on='user_pseudo_id')"
   ]
  },
  {
   "cell_type": "code",
   "execution_count": null,
   "metadata": {
    "scrolled": true
   },
   "outputs": [],
   "source": [
    "df_merge"
   ]
  },
  {
   "cell_type": "code",
   "execution_count": null,
   "metadata": {},
   "outputs": [],
   "source": []
  },
  {
   "cell_type": "markdown",
   "metadata": {},
   "source": [
    "## Input Target Variable"
   ]
  },
  {
   "cell_type": "code",
   "execution_count": null,
   "metadata": {},
   "outputs": [],
   "source": [
    "purchasers = list(df[df['event_name']=='purchase']['user_pseudo_id'])"
   ]
  },
  {
   "cell_type": "code",
   "execution_count": null,
   "metadata": {},
   "outputs": [],
   "source": [
    "purchasers"
   ]
  },
  {
   "cell_type": "code",
   "execution_count": null,
   "metadata": {},
   "outputs": [],
   "source": [
    "df['target_variable'] = None"
   ]
  },
  {
   "cell_type": "code",
   "execution_count": null,
   "metadata": {
    "scrolled": false
   },
   "outputs": [],
   "source": [
    "for i in purchasers:\n",
    "    for index, row in df[df['user_pseudo_id']==i].iterrows():\n",
    "        df['target_variable'].iloc[index]=1"
   ]
  },
  {
   "cell_type": "code",
   "execution_count": null,
   "metadata": {},
   "outputs": [],
   "source": [
    "df['target_variable'] = df.target_variable.fillna(0)"
   ]
  },
  {
   "cell_type": "code",
   "execution_count": null,
   "metadata": {},
   "outputs": [],
   "source": [
    "df[df['event_name']=='purchase']"
   ]
  },
  {
   "cell_type": "code",
   "execution_count": null,
   "metadata": {
    "scrolled": false
   },
   "outputs": [],
   "source": [
    "df['target_variable'].value_counts()"
   ]
  },
  {
   "cell_type": "code",
   "execution_count": null,
   "metadata": {},
   "outputs": [],
   "source": [
    "list_y = list(set(df['target_variable'].values))\n",
    "list_y = list_y.remove(0)\n",
    "df['target_variable'] = df['target_variable'].replace(to_replace=list_y, value = 1)"
   ]
  },
  {
   "cell_type": "markdown",
   "metadata": {},
   "source": [
    "## Deleteing Transactions after purchase"
   ]
  },
  {
   "cell_type": "code",
   "execution_count": null,
   "metadata": {},
   "outputs": [],
   "source": [
    "len(df)"
   ]
  },
  {
   "cell_type": "code",
   "execution_count": null,
   "metadata": {},
   "outputs": [],
   "source": [
    "df.columns"
   ]
  },
  {
   "cell_type": "code",
   "execution_count": null,
   "metadata": {},
   "outputs": [],
   "source": [
    "test1 = df[df['event_params_engagement_time_msec']>0][['user_pseudo_id','event_params_engagement_time_msec']]"
   ]
  },
  {
   "cell_type": "code",
   "execution_count": null,
   "metadata": {},
   "outputs": [],
   "source": [
    "pd.DataFrame(test1).sort_values"
   ]
  },
  {
   "cell_type": "code",
   "execution_count": null,
   "metadata": {},
   "outputs": [],
   "source": [
    "df['event_timestamp'] = pd.to_datetime(df['event_timestamp'], unit='us')"
   ]
  },
  {
   "cell_type": "code",
   "execution_count": null,
   "metadata": {
    "scrolled": false
   },
   "outputs": [],
   "source": [
    "df['event_date'] = pd.to_datetime(df['event_date'],yearfirst=True, format='%Y%m%d')"
   ]
  },
  {
   "cell_type": "code",
   "execution_count": null,
   "metadata": {
    "scrolled": true
   },
   "outputs": [],
   "source": [
    "df.head()"
   ]
  },
  {
   "cell_type": "code",
   "execution_count": null,
   "metadata": {
    "scrolled": true
   },
   "outputs": [],
   "source": [
    "last_event = df[df['event_name']=='purchase'][['user_pseudo_id','event_timestamp']]\n",
    "last_event"
   ]
  },
  {
   "cell_type": "code",
   "execution_count": null,
   "metadata": {
    "scrolled": true
   },
   "outputs": [],
   "source": [
    "df_merge = df.merge(last_event, on='user_pseudo_id', how='outer')"
   ]
  },
  {
   "cell_type": "code",
   "execution_count": null,
   "metadata": {},
   "outputs": [],
   "source": [
    "df_merge"
   ]
  },
  {
   "cell_type": "code",
   "execution_count": null,
   "metadata": {},
   "outputs": [],
   "source": [
    "df_merge[df_merge['event_name']=='purchase']"
   ]
  },
  {
   "cell_type": "code",
   "execution_count": null,
   "metadata": {},
   "outputs": [],
   "source": [
    "df_merge.shape"
   ]
  },
  {
   "cell_type": "code",
   "execution_count": null,
   "metadata": {
    "scrolled": false
   },
   "outputs": [],
   "source": [
    "df_merge['event_timestamp_y'].value_counts()"
   ]
  },
  {
   "cell_type": "code",
   "execution_count": null,
   "metadata": {},
   "outputs": [],
   "source": [
    "df_merge"
   ]
  },
  {
   "cell_type": "code",
   "execution_count": null,
   "metadata": {},
   "outputs": [],
   "source": [
    "df_new = df_merge.drop(df_merge[df_merge.event_timestamp_x > df_merge.event_timestamp_y].index)"
   ]
  },
  {
   "cell_type": "code",
   "execution_count": null,
   "metadata": {},
   "outputs": [],
   "source": [
    "df_new.shape"
   ]
  },
  {
   "cell_type": "code",
   "execution_count": null,
   "metadata": {},
   "outputs": [],
   "source": [
    "df_new[df_new['event_name']=='purchase']"
   ]
  },
  {
   "cell_type": "code",
   "execution_count": null,
   "metadata": {},
   "outputs": [],
   "source": [
    "#For timestamp at which the purchase happened, delete everything that happened after it for the pseudo_id"
   ]
  },
  {
   "cell_type": "code",
   "execution_count": null,
   "metadata": {},
   "outputs": [],
   "source": [
    "#def convert_date_timestamps(df):\n",
    "#    for column in df:\n",
    "#        if 'event_date' in column:\n",
    "#            df[column] = pd.to_datetime(df[column])\n",
    "#        if 'event_timestamp' in column:\n",
    "#            df[column] = pd.to_datetime(df[column], unit='us')\n",
    "#   return df"
   ]
  },
  {
   "cell_type": "code",
   "execution_count": null,
   "metadata": {},
   "outputs": [],
   "source": [
    "#convert_date_timestamps(df)"
   ]
  },
  {
   "cell_type": "code",
   "execution_count": null,
   "metadata": {},
   "outputs": [],
   "source": [
    "#def convert_date_timestamps(df):\n",
    "#    for column in df:\n",
    "#        if 'date' in column:\n",
    "#            df[column] = pd.to_datetime(df[column])\n",
    "#        if 'timestamp' in column:\n",
    "#            df[column] = pd.to_datetime(df[column], unit='us')\n",
    "#    return df\n",
    "            "
   ]
  },
  {
   "cell_type": "code",
   "execution_count": null,
   "metadata": {},
   "outputs": [],
   "source": [
    "#for i in df:\n",
    "#    print(i ,  df[i].nunique())"
   ]
  },
  {
   "cell_type": "markdown",
   "metadata": {},
   "source": [
    "## Get delete the Time Columns"
   ]
  },
  {
   "cell_type": "code",
   "execution_count": null,
   "metadata": {},
   "outputs": [],
   "source": [
    "df.columns"
   ]
  },
  {
   "cell_type": "code",
   "execution_count": null,
   "metadata": {},
   "outputs": [],
   "source": [
    "df_new_timefeatures = df_new[['event_name','user_pseudo_id','event_date', 'event_timestamp_x', 'user_first_touch_timestamp', 'event_params_ga_session_number', 'event_params_ga_session_id','target_variable', 'event_params_engagement_time_msec' ]]"
   ]
  },
  {
   "cell_type": "code",
   "execution_count": null,
   "metadata": {},
   "outputs": [],
   "source": [
    "df_new_timefeatures.head()"
   ]
  },
  {
   "cell_type": "code",
   "execution_count": null,
   "metadata": {},
   "outputs": [],
   "source": [
    "df_visits_per_visitor = df_new_timefeatures.groupby('user_pseudo_id').agg({'event_params_ga_session_number':'max'}).reset_index().rename(columns={'event_params_ga_session_number': 'visits_per_visitor'})"
   ]
  },
  {
   "cell_type": "code",
   "execution_count": null,
   "metadata": {},
   "outputs": [],
   "source": [
    "df_visits_per_visitor"
   ]
  },
  {
   "cell_type": "code",
   "execution_count": null,
   "metadata": {
    "scrolled": true
   },
   "outputs": [],
   "source": [
    "df_visits_per_visitor.sort_values(by='event_params_ga_session_number' ,ascending=True)"
   ]
  },
  {
   "cell_type": "code",
   "execution_count": null,
   "metadata": {},
   "outputs": [],
   "source": [
    "df_pageviews = df_new_timefeatures[df_new_timefeatures['event_name']=='page_view'][['user_pseudo_id', 'event_name','event_date' ]]\n",
    "df_pageviews"
   ]
  },
  {
   "cell_type": "code",
   "execution_count": null,
   "metadata": {},
   "outputs": [],
   "source": [
    "df_pageviews_per_visitor = pd.pivot_table(data=df_pageviews, index='user_pseudo_id', columns='event_name', aggfunc='count').droplevel(level=1, axis=1).reset_index().rename(columns={'event_date': 'page_views'})"
   ]
  },
  {
   "cell_type": "code",
   "execution_count": null,
   "metadata": {},
   "outputs": [],
   "source": [
    "df_pageviews_per_visitor"
   ]
  },
  {
   "cell_type": "code",
   "execution_count": null,
   "metadata": {},
   "outputs": [],
   "source": [
    "df_events_per_visitor = df_new_timefeatures.groupby('user_pseudo_id').agg({'event_params_ga_session_number':'count'}).reset_index().rename(columns={'event_params_ga_session_number': 'events_per_visitor'})"
   ]
  },
  {
   "cell_type": "code",
   "execution_count": null,
   "metadata": {
    "scrolled": true
   },
   "outputs": [],
   "source": [
    "df_events_per_visitor"
   ]
  },
  {
   "cell_type": "code",
   "execution_count": null,
   "metadata": {},
   "outputs": [],
   "source": [
    "df_new_timefeatures"
   ]
  },
  {
   "cell_type": "code",
   "execution_count": null,
   "metadata": {},
   "outputs": [],
   "source": [
    "df_engagement_time_per_visitor = df_new_timefeatures.groupby('user_pseudo_id').agg({'event_params_engagement_time_msec':'sum'}).reset_index().rename(columns={'event_params_engagement_time_msec': 'engagement_time_per_visitor'})"
   ]
  },
  {
   "cell_type": "code",
   "execution_count": null,
   "metadata": {},
   "outputs": [],
   "source": [
    "df_engagement_time_per_visitor"
   ]
  },
  {
   "cell_type": "code",
   "execution_count": null,
   "metadata": {},
   "outputs": [],
   "source": [
    "df_clicks = df_new_timefeatures[df_new_timefeatures['event_name']=='click'][['user_pseudo_id', 'event_name','event_date' ]]"
   ]
  },
  {
   "cell_type": "code",
   "execution_count": null,
   "metadata": {},
   "outputs": [],
   "source": [
    "df_clicks_per_visitor = pd.pivot_table(data=df_clicks, index='user_pseudo_id', columns='event_name', aggfunc='count').droplevel(level=1, axis=1).reset_index().rename(columns={'event_date': 'clicks'})"
   ]
  },
  {
   "cell_type": "code",
   "execution_count": null,
   "metadata": {},
   "outputs": [],
   "source": [
    "df_clicks_per_visitor"
   ]
  },
  {
   "cell_type": "code",
   "execution_count": null,
   "metadata": {},
   "outputs": [],
   "source": [
    "df_user_engagement = df_new_timefeatures[df_new_timefeatures['event_name']=='user_engagement'][['user_pseudo_id', 'event_name','event_date' ]]"
   ]
  },
  {
   "cell_type": "code",
   "execution_count": null,
   "metadata": {},
   "outputs": [],
   "source": [
    "df_user_engagements_visitor = pd.pivot_table(data=df_user_engagement, index='user_pseudo_id', columns='event_name', aggfunc='count').droplevel(level=1, axis=1).reset_index().rename(columns={'event_date': 'user_engagements'})"
   ]
  },
  {
   "cell_type": "code",
   "execution_count": null,
   "metadata": {},
   "outputs": [],
   "source": [
    "df_user_engagements_visitor"
   ]
  },
  {
   "cell_type": "code",
   "execution_count": null,
   "metadata": {},
   "outputs": [],
   "source": [
    "df_scrollings = df_new_timefeatures[df_new_timefeatures['event_name']=='scroll'][['user_pseudo_id', 'event_name','event_date' ]]"
   ]
  },
  {
   "cell_type": "code",
   "execution_count": null,
   "metadata": {},
   "outputs": [],
   "source": [
    "df_scrollings_visitor = pd.pivot_table(data=df_scrollings, index='user_pseudo_id', columns='event_name', aggfunc='count').droplevel(level=1, axis=1).reset_index().rename(columns={'event_date': 'scrolls'})"
   ]
  },
  {
   "cell_type": "code",
   "execution_count": null,
   "metadata": {},
   "outputs": [],
   "source": [
    "df_scrollings_visitor"
   ]
  },
  {
   "cell_type": "markdown",
   "metadata": {},
   "source": [
    "## JOINING for Basic Model"
   ]
  },
  {
   "cell_type": "code",
   "execution_count": null,
   "metadata": {},
   "outputs": [],
   "source": [
    "df_new_timefeatures"
   ]
  },
  {
   "cell_type": "code",
   "execution_count": null,
   "metadata": {},
   "outputs": [],
   "source": [
    "df_for_target_variable = df_new_timefeatures.groupby(by='user_pseudo_id').sum()\n",
    "df_for_target_variable"
   ]
  },
  {
   "cell_type": "code",
   "execution_count": null,
   "metadata": {},
   "outputs": [],
   "source": [
    "df_new_byvisitors = df_visits_per_visitor.merge(df_pageviews_per_visitor,on='user_pseudo_id', how='outer').merge(df_events_per_visitor,on='user_pseudo_id', how='outer').merge(df_engagement_time_per_visitor,on='user_pseudo_id', how='outer').merge(df_clicks_per_visitor,on='user_pseudo_id', how='outer').merge(df_user_engagements_visitor,on='user_pseudo_id', how='outer').merge(df_scrollings_visitor,on='user_pseudo_id', how='outer').merge(df_for_target_variable[['target_variable']], how='left',on='user_pseudo_id')"
   ]
  },
  {
   "cell_type": "code",
   "execution_count": null,
   "metadata": {
    "scrolled": true
   },
   "outputs": [],
   "source": [
    "df_new_byvisitors"
   ]
  },
  {
   "cell_type": "code",
   "execution_count": null,
   "metadata": {
    "scrolled": true
   },
   "outputs": [],
   "source": [
    "df_new_byvisitors[df_new_byvisitors['target_variable'] > 0]"
   ]
  },
  {
   "cell_type": "code",
   "execution_count": null,
   "metadata": {},
   "outputs": [],
   "source": [
    "#import os  \n",
    "#os.makedirs('/home/alex/code/alexhalenke/', exist_ok=True)  \n",
    "#df_new_byvisitors.to_csv('/home/alex/code/alexhalenke/first_basic_model.csv')"
   ]
  },
  {
   "cell_type": "markdown",
   "metadata": {},
   "source": [
    "## One Hot Encoding"
   ]
  },
  {
   "cell_type": "code",
   "execution_count": null,
   "metadata": {},
   "outputs": [],
   "source": [
    "df.columns"
   ]
  },
  {
   "cell_type": "code",
   "execution_count": null,
   "metadata": {},
   "outputs": [],
   "source": [
    "df_ohe = df_new.drop(columns=['event_date', 'event_timestamp_x', 'user_first_touch_timestamp', 'event_params_ga_session_number', 'event_params_ga_session_id','target_variable', 'event_params_engagement_time_msec'], axis=1)"
   ]
  },
  {
   "cell_type": "code",
   "execution_count": null,
   "metadata": {
    "scrolled": true
   },
   "outputs": [],
   "source": [
    "len(df_ohe['event_name'].unique())"
   ]
  },
  {
   "cell_type": "code",
   "execution_count": null,
   "metadata": {},
   "outputs": [],
   "source": [
    "16*343"
   ]
  },
  {
   "cell_type": "code",
   "execution_count": null,
   "metadata": {},
   "outputs": [],
   "source": [
    "len(df_ohe['event_params_page_title'].unique())"
   ]
  },
  {
   "cell_type": "code",
   "execution_count": null,
   "metadata": {},
   "outputs": [],
   "source": [
    "len(df_ohe_new['event_params_page_title'].unique())"
   ]
  },
  {
   "cell_type": "code",
   "execution_count": null,
   "metadata": {},
   "outputs": [],
   "source": [
    "df_ohe_new = page_category(df_ohe)"
   ]
  },
  {
   "cell_type": "code",
   "execution_count": null,
   "metadata": {
    "scrolled": true
   },
   "outputs": [],
   "source": [
    "df_ohe_new"
   ]
  },
  {
   "cell_type": "code",
   "execution_count": null,
   "metadata": {
    "scrolled": true
   },
   "outputs": [],
   "source": [
    "df_ohe.groupby(['event_name','event_params_page_title']).count()"
   ]
  },
  {
   "cell_type": "code",
   "execution_count": null,
   "metadata": {},
   "outputs": [],
   "source": [
    "mygroupedcolumns = pd.DataFrame(df_ohe.groupby(['user_pseudo_id','event_name','event_params_page_title'],as_index=True).count().reset_index())"
   ]
  },
  {
   "cell_type": "code",
   "execution_count": null,
   "metadata": {},
   "outputs": [],
   "source": [
    "type(mygroupedcolumns)"
   ]
  },
  {
   "cell_type": "code",
   "execution_count": null,
   "metadata": {
    "scrolled": true
   },
   "outputs": [],
   "source": [
    "mygroupedcolumns"
   ]
  },
  {
   "cell_type": "code",
   "execution_count": null,
   "metadata": {},
   "outputs": [],
   "source": [
    "page_category(mygroupedcolumns)"
   ]
  },
  {
   "cell_type": "code",
   "execution_count": null,
   "metadata": {},
   "outputs": [],
   "source": [
    "df_ohe_new"
   ]
  },
  {
   "cell_type": "code",
   "execution_count": null,
   "metadata": {},
   "outputs": [],
   "source": [
    "df_ohe_new['unique_combinations'] = df_ohe_new['event_name']+ ' & ' +df_ohe_new['Page Category']"
   ]
  },
  {
   "cell_type": "code",
   "execution_count": null,
   "metadata": {},
   "outputs": [],
   "source": [
    "len(df_ohe_new['unique_combinations'].unique())"
   ]
  },
  {
   "cell_type": "code",
   "execution_count": null,
   "metadata": {},
   "outputs": [],
   "source": [
    "mygroupedcolumns = df_ohe_new.drop(columns=['event_name','event_params_page_title'])"
   ]
  },
  {
   "cell_type": "code",
   "execution_count": null,
   "metadata": {},
   "outputs": [],
   "source": [
    "mygroupedcolumns_index = mygroupedcolumns.set_index('user_pseudo_id')"
   ]
  },
  {
   "cell_type": "code",
   "execution_count": null,
   "metadata": {},
   "outputs": [],
   "source": [
    "len(mygroupedcolumns_index['unique_combinations'].unique())"
   ]
  },
  {
   "cell_type": "code",
   "execution_count": null,
   "metadata": {},
   "outputs": [],
   "source": [
    "mygroupedcolumns_index = mygroupedcolumns_index.reset_index()"
   ]
  },
  {
   "cell_type": "code",
   "execution_count": null,
   "metadata": {},
   "outputs": [],
   "source": [
    "final_version_today = mygroupedcolumns_index[['user_pseudo_id','unique_combinations', 'Page Category']]"
   ]
  },
  {
   "cell_type": "code",
   "execution_count": null,
   "metadata": {},
   "outputs": [],
   "source": [
    "#pd.pivot_table(data=mygroupedcolumns_index, index='user_pseudo_id', columns='event_name', aggfunc='count').droplevel(level=1, axis=1).reset_index().rename(columns={'event_date': 'scrolls'})"
   ]
  },
  {
   "cell_type": "code",
   "execution_count": null,
   "metadata": {},
   "outputs": [],
   "source": [
    "len(final_version_today['unique_combinations'].unique())"
   ]
  },
  {
   "cell_type": "code",
   "execution_count": null,
   "metadata": {},
   "outputs": [],
   "source": [
    "final_version_today"
   ]
  },
  {
   "cell_type": "code",
   "execution_count": null,
   "metadata": {
    "scrolled": false
   },
   "outputs": [],
   "source": [
    "First_Final_DataSet = pd.pivot_table(final_version_today, values='Page Category', index='user_pseudo_id', columns='unique_combinations',aggfunc='count')"
   ]
  },
  {
   "cell_type": "code",
   "execution_count": null,
   "metadata": {},
   "outputs": [],
   "source": []
  },
  {
   "cell_type": "code",
   "execution_count": null,
   "metadata": {
    "scrolled": true
   },
   "outputs": [],
   "source": [
    "#pd.pivot_table(data=mygroupedcolumns_index, index=['user_pseudo_id'], columns=[['unique_combinations']], aggfunc='count')"
   ]
  },
  {
   "cell_type": "code",
   "execution_count": null,
   "metadata": {},
   "outputs": [],
   "source": [
    "mygroupedcolumns.pivot(columns=['user_pseudo_id'])"
   ]
  },
  {
   "cell_type": "code",
   "execution_count": null,
   "metadata": {},
   "outputs": [],
   "source": [
    "mygroupedcolumns.pivot(columns=['event_name'])"
   ]
  },
  {
   "cell_type": "code",
   "execution_count": null,
   "metadata": {
    "scrolled": true
   },
   "outputs": [],
   "source": [
    "df_ohe.groupby(['user_pseudo_id']).count()"
   ]
  },
  {
   "cell_type": "code",
   "execution_count": null,
   "metadata": {},
   "outputs": [],
   "source": []
  },
  {
   "cell_type": "code",
   "execution_count": null,
   "metadata": {},
   "outputs": [],
   "source": [
    "df_ohe = df_ohe[['event_name','user_pseudo_id','event_params_page_title']]"
   ]
  },
  {
   "cell_type": "code",
   "execution_count": null,
   "metadata": {},
   "outputs": [],
   "source": [
    "df_pivoting = pd.pivot_table(data=df_ohe, index='user_pseudo_id', columns=['event_name','event_params_page_title'], aggfunc='count')"
   ]
  },
  {
   "cell_type": "code",
   "execution_count": null,
   "metadata": {
    "scrolled": true
   },
   "outputs": [],
   "source": [
    "First_Final_DataSet = First_Final_DataSet.merge(df_new_byvisitors,on='user_pseudo_id', how='left')"
   ]
  },
  {
   "cell_type": "code",
   "execution_count": null,
   "metadata": {
    "scrolled": true
   },
   "outputs": [],
   "source": [
    "First_Final_DataSet"
   ]
  },
  {
   "cell_type": "code",
   "execution_count": null,
   "metadata": {},
   "outputs": [],
   "source": [
    "pwd"
   ]
  },
  {
   "cell_type": "code",
   "execution_count": null,
   "metadata": {},
   "outputs": [],
   "source": [
    "import os  \n",
    "\n",
    "os.makedirs('/home/alex/code/alexhalenke/', exist_ok=True)  \n",
    "First_Final_DataSet.to_csv('/home/alex/code/alexhalenke/out.csv')\n"
   ]
  },
  {
   "cell_type": "code",
   "execution_count": null,
   "metadata": {},
   "outputs": [],
   "source": [
    "from Predicting_Purchase_Intention.utils.get_dataframe import feature_engineering"
   ]
  },
  {
   "cell_type": "code",
   "execution_count": null,
   "metadata": {
    "scrolled": true
   },
   "outputs": [],
   "source": [
    "from Predicting_Purchase_Intention.utils.get_dataframe import feature_engineering"
   ]
  },
  {
   "cell_type": "code",
   "execution_count": null,
   "metadata": {},
   "outputs": [],
   "source": []
  }
 ],
 "metadata": {
  "kernelspec": {
   "display_name": "Python 3 (ipykernel)",
   "language": "python",
   "name": "python3"
  },
  "language_info": {
   "codemirror_mode": {
    "name": "ipython",
    "version": 3
   },
   "file_extension": ".py",
   "mimetype": "text/x-python",
   "name": "python",
   "nbconvert_exporter": "python",
   "pygments_lexer": "ipython3",
   "version": "3.8.12"
  },
  "toc": {
   "base_numbering": 1,
   "nav_menu": {},
   "number_sections": true,
   "sideBar": true,
   "skip_h1_title": false,
   "title_cell": "Table of Contents",
   "title_sidebar": "Contents",
   "toc_cell": false,
   "toc_position": {},
   "toc_section_display": true,
   "toc_window_display": false
  },
  "vscode": {
   "interpreter": {
    "hash": "f3a4818bf8c9a4eeb107a353c180703b98dee743c8fc3f31b8c1f0ae5ab31363"
   }
  }
 },
 "nbformat": 4,
 "nbformat_minor": 2
}
