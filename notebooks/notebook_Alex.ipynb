{
 "cells": [
  {
   "cell_type": "code",
   "execution_count": 1,
   "metadata": {},
   "outputs": [],
   "source": [
    "import pandas as pd\n",
    "import numpy as np\n",
    "from google.cloud import bigquery\n",
    "client = bigquery.Client()\n",
    "from Predicting_Purchase_Intention.utils.get_data import get_raw_data"
   ]
  },
  {
   "cell_type": "code",
   "execution_count": 4,
   "metadata": {},
   "outputs": [],
   "source": [
    "#from datetime import datetime\n",
    "\n",
    "\n",
    "#df['event_date'] = pd.to_datetime(df['event_date'])\n",
    "#df['event_timestamp'] = pd.to_datetime(df['event_timestamp'], unit='us')"
   ]
  },
  {
   "cell_type": "code",
   "execution_count": 3,
   "metadata": {},
   "outputs": [
    {
     "data": {
      "text/html": [
       "<div>\n",
       "<style scoped>\n",
       "    .dataframe tbody tr th:only-of-type {\n",
       "        vertical-align: middle;\n",
       "    }\n",
       "\n",
       "    .dataframe tbody tr th {\n",
       "        vertical-align: top;\n",
       "    }\n",
       "\n",
       "    .dataframe thead th {\n",
       "        text-align: right;\n",
       "    }\n",
       "</style>\n",
       "<table border=\"1\" class=\"dataframe\">\n",
       "  <thead>\n",
       "    <tr style=\"text-align: right;\">\n",
       "      <th></th>\n",
       "      <th>event_date</th>\n",
       "      <th>event_timestamp</th>\n",
       "      <th>event_name</th>\n",
       "      <th>event_params</th>\n",
       "      <th>event_previous_timestamp</th>\n",
       "      <th>event_value_in_usd</th>\n",
       "      <th>event_bundle_sequence_id</th>\n",
       "      <th>event_server_timestamp_offset</th>\n",
       "      <th>user_id</th>\n",
       "      <th>user_pseudo_id</th>\n",
       "      <th>...</th>\n",
       "      <th>ecommerce_purchase_revenue_in_usd</th>\n",
       "      <th>ecommerce_purchase_revenue</th>\n",
       "      <th>ecommerce_refund_value_in_usd</th>\n",
       "      <th>ecommerce_refund_value</th>\n",
       "      <th>ecommerce_shipping_value_in_usd</th>\n",
       "      <th>ecommerce_shipping_value</th>\n",
       "      <th>ecommerce_tax_value_in_usd</th>\n",
       "      <th>ecommerce_tax_value</th>\n",
       "      <th>ecommerce_unique_items</th>\n",
       "      <th>ecommerce_transaction_id</th>\n",
       "    </tr>\n",
       "  </thead>\n",
       "  <tbody>\n",
       "    <tr>\n",
       "      <th>0</th>\n",
       "      <td>20210131</td>\n",
       "      <td>1612069510766593</td>\n",
       "      <td>page_view</td>\n",
       "      <td>[{'key': 'gclid', 'value': {'string_value': No...</td>\n",
       "      <td>&lt;NA&gt;</td>\n",
       "      <td>NaN</td>\n",
       "      <td>6595101026</td>\n",
       "      <td>&lt;NA&gt;</td>\n",
       "      <td>None</td>\n",
       "      <td>1026454.4271112504</td>\n",
       "      <td>...</td>\n",
       "      <td>NaN</td>\n",
       "      <td>NaN</td>\n",
       "      <td>NaN</td>\n",
       "      <td>NaN</td>\n",
       "      <td>NaN</td>\n",
       "      <td>NaN</td>\n",
       "      <td>NaN</td>\n",
       "      <td>NaN</td>\n",
       "      <td>NaN</td>\n",
       "      <td>NaN</td>\n",
       "    </tr>\n",
       "  </tbody>\n",
       "</table>\n",
       "<p>1 rows × 62 columns</p>\n",
       "</div>"
      ],
      "text/plain": [
       "  event_date   event_timestamp event_name  \\\n",
       "0   20210131  1612069510766593  page_view   \n",
       "\n",
       "                                        event_params  \\\n",
       "0  [{'key': 'gclid', 'value': {'string_value': No...   \n",
       "\n",
       "   event_previous_timestamp  event_value_in_usd  event_bundle_sequence_id  \\\n",
       "0                      <NA>                 NaN                6595101026   \n",
       "\n",
       "   event_server_timestamp_offset user_id      user_pseudo_id  ...  \\\n",
       "0                           <NA>    None  1026454.4271112504  ...   \n",
       "\n",
       "  ecommerce_purchase_revenue_in_usd ecommerce_purchase_revenue  \\\n",
       "0                               NaN                        NaN   \n",
       "\n",
       "   ecommerce_refund_value_in_usd ecommerce_refund_value  \\\n",
       "0                            NaN                    NaN   \n",
       "\n",
       "  ecommerce_shipping_value_in_usd ecommerce_shipping_value  \\\n",
       "0                             NaN                      NaN   \n",
       "\n",
       "  ecommerce_tax_value_in_usd ecommerce_tax_value  ecommerce_unique_items  \\\n",
       "0                        NaN                 NaN                     NaN   \n",
       "\n",
       "  ecommerce_transaction_id  \n",
       "0                      NaN  \n",
       "\n",
       "[1 rows x 62 columns]"
      ]
     },
     "execution_count": 3,
     "metadata": {},
     "output_type": "execute_result"
    }
   ],
   "source": [
    "get_raw_data(project='wagon-bootcamp-6515',\n",
    "                 query=\"\"\"\n",
    "                       SELECT *\n",
    "                       FROM `bigquery-public-data.ga4_obfuscated_sample_ecommerce.events_20210131`\n",
    "                       LIMIT 1\n",
    "                       \"\"\",\n",
    "                 drop=False)"
   ]
  },
  {
   "cell_type": "code",
   "execution_count": null,
   "metadata": {},
   "outputs": [],
   "source": []
  }
 ],
 "metadata": {
  "kernelspec": {
   "display_name": "Python 3.8.12 64-bit ('shims')",
   "language": "python",
   "name": "python3"
  },
  "language_info": {
   "codemirror_mode": {
    "name": "ipython",
    "version": 3
   },
   "file_extension": ".py",
   "mimetype": "text/x-python",
   "name": "python",
   "nbconvert_exporter": "python",
   "pygments_lexer": "ipython3",
   "version": "3.8.12"
  },
  "orig_nbformat": 4,
  "vscode": {
   "interpreter": {
    "hash": "3b3f228250e95898f677de18a5e693b4779c6f701f4cfdf4d836930965889953"
   }
  }
 },
 "nbformat": 4,
 "nbformat_minor": 2
}
