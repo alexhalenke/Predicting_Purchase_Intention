{
 "cells": [
  {
   "cell_type": "code",
   "execution_count": 17,
   "metadata": {},
   "outputs": [],
   "source": [
    "import pandas as pd\n",
    "import numpy as np\n",
    "import glob\n",
    "#from google.cloud import bigquery\n",
    "#client = bigquery.Client()\n",
    "#from Predicting_Purchase_Intention.utils.get_data import get_raw_data"
   ]
  },
  {
   "cell_type": "code",
   "execution_count": null,
   "metadata": {},
   "outputs": [
    {
     "name": "stderr",
     "output_type": "stream",
     "text": [
      "/tmp/ipykernel_5936/3424008874.py:7: DtypeWarning: Columns (72,73,74,75,80,81,82,83,84,87,89) have mixed types. Specify dtype option on import or set low_memory=False.\n",
      "  df = pd.read_csv(filename, index_col=None, header=0)\n",
      "/tmp/ipykernel_5936/3424008874.py:7: DtypeWarning: Columns (85) have mixed types. Specify dtype option on import or set low_memory=False.\n",
      "  df = pd.read_csv(filename, index_col=None, header=0)\n",
      "/tmp/ipykernel_5936/3424008874.py:7: DtypeWarning: Columns (74,75,76,78,79,80,82,83,84,86,89) have mixed types. Specify dtype option on import or set low_memory=False.\n",
      "  df = pd.read_csv(filename, index_col=None, header=0)\n",
      "/tmp/ipykernel_5936/3424008874.py:7: DtypeWarning: Columns (77,79,82,83,84,86) have mixed types. Specify dtype option on import or set low_memory=False.\n",
      "  df = pd.read_csv(filename, index_col=None, header=0)\n",
      "/tmp/ipykernel_5936/3424008874.py:7: DtypeWarning: Columns (80,82,83,84,87) have mixed types. Specify dtype option on import or set low_memory=False.\n",
      "  df = pd.read_csv(filename, index_col=None, header=0)\n",
      "/tmp/ipykernel_5936/3424008874.py:7: DtypeWarning: Columns (82,83,84,86) have mixed types. Specify dtype option on import or set low_memory=False.\n",
      "  df = pd.read_csv(filename, index_col=None, header=0)\n",
      "/tmp/ipykernel_5936/3424008874.py:7: DtypeWarning: Columns (80,81,82,83,84,85) have mixed types. Specify dtype option on import or set low_memory=False.\n",
      "  df = pd.read_csv(filename, index_col=None, header=0)\n",
      "/tmp/ipykernel_5936/3424008874.py:7: DtypeWarning: Columns (47,69,71,72,76,80,81,82,83,84,87,90) have mixed types. Specify dtype option on import or set low_memory=False.\n",
      "  df = pd.read_csv(filename, index_col=None, header=0)\n",
      "/tmp/ipykernel_5936/3424008874.py:7: DtypeWarning: Columns (82,83,84,86) have mixed types. Specify dtype option on import or set low_memory=False.\n",
      "  df = pd.read_csv(filename, index_col=None, header=0)\n",
      "/tmp/ipykernel_5936/3424008874.py:7: DtypeWarning: Columns (26,28,29,35,80,81,82,83,84,87) have mixed types. Specify dtype option on import or set low_memory=False.\n",
      "  df = pd.read_csv(filename, index_col=None, header=0)\n",
      "/tmp/ipykernel_5936/3424008874.py:7: DtypeWarning: Columns (79,80,82,83,84,88) have mixed types. Specify dtype option on import or set low_memory=False.\n",
      "  df = pd.read_csv(filename, index_col=None, header=0)\n",
      "/tmp/ipykernel_5936/3424008874.py:7: DtypeWarning: Columns (71,87) have mixed types. Specify dtype option on import or set low_memory=False.\n",
      "  df = pd.read_csv(filename, index_col=None, header=0)\n",
      "/tmp/ipykernel_5936/3424008874.py:7: DtypeWarning: Columns (79,81,82,83,84,87) have mixed types. Specify dtype option on import or set low_memory=False.\n",
      "  df = pd.read_csv(filename, index_col=None, header=0)\n",
      "/tmp/ipykernel_5936/3424008874.py:7: DtypeWarning: Columns (82,83,84,87) have mixed types. Specify dtype option on import or set low_memory=False.\n",
      "  df = pd.read_csv(filename, index_col=None, header=0)\n",
      "/tmp/ipykernel_5936/3424008874.py:7: DtypeWarning: Columns (0,7,9,10,13,24,25,27,29,30,32,45,46,80,82,83,84,87) have mixed types. Specify dtype option on import or set low_memory=False.\n",
      "  df = pd.read_csv(filename, index_col=None, header=0)\n"
     ]
    }
   ],
   "source": [
    "path = '/home/alex/code/alexhalenke/15days'\n",
    "all_files = glob.glob(path + \"/*.csv\")\n",
    "\n",
    "li = []\n",
    "\n",
    "for filename in all_files:\n",
    "    df = pd.read_csv(filename, index_col=None, header=0, )\n",
    "    li.append(df)\n",
    "\n",
    "frame = pd.concat(li, axis=0, ignore_index=True)"
   ]
  },
  {
   "cell_type": "code",
   "execution_count": null,
   "metadata": {},
   "outputs": [],
   "source": []
  },
  {
   "cell_type": "code",
   "execution_count": null,
   "metadata": {},
   "outputs": [],
   "source": [
    "df = get_raw_data(project='wagon-bootcamp-6515',\n",
    "                 query=\"\"\"\n",
    "                       SELECT *\n",
    "                       FROM `bigquery-public-data.ga4_obfuscated_sample_ecommerce.events_20210130`\n",
    "                       \"\"\",\n",
    "                 drop=True)"
   ]
  },
  {
   "cell_type": "code",
   "execution_count": null,
   "metadata": {
    "scrolled": false
   },
   "outputs": [],
   "source": [
    "#test.groupby('event_params_page_title', as_index = False).count()"
   ]
  },
  {
   "cell_type": "code",
   "execution_count": null,
   "metadata": {},
   "outputs": [],
   "source": [
    "#test = df[df['event_name']=='page_view']"
   ]
  },
  {
   "cell_type": "code",
   "execution_count": null,
   "metadata": {},
   "outputs": [],
   "source": [
    "#convert_date_timestamps(df)"
   ]
  },
  {
   "cell_type": "code",
   "execution_count": null,
   "metadata": {},
   "outputs": [],
   "source": [
    "#def convert_date_timestamps(df):\n",
    "#    for column in df:\n",
    "#        if 'date' in column:\n",
    "#            df[column] = pd.to_datetime(df[column])\n",
    "#        if 'timestamp' in column:\n",
    "#            df[column] = pd.to_datetime(df[column], unit='us')\n",
    "#    return df\n",
    "            "
   ]
  },
  {
   "cell_type": "code",
   "execution_count": null,
   "metadata": {},
   "outputs": [],
   "source": [
    "#for i in df:\n",
    "#    print(i ,  df[i].nunique())"
   ]
  }
 ],
 "metadata": {
  "kernelspec": {
   "display_name": "Python 3 (ipykernel)",
   "language": "python",
   "name": "python3"
  },
  "language_info": {
   "codemirror_mode": {
    "name": "ipython",
    "version": 3
   },
   "file_extension": ".py",
   "mimetype": "text/x-python",
   "name": "python",
   "nbconvert_exporter": "python",
   "pygments_lexer": "ipython3",
   "version": "3.8.12"
  },
  "toc": {
   "base_numbering": 1,
   "nav_menu": {},
   "number_sections": true,
   "sideBar": true,
   "skip_h1_title": false,
   "title_cell": "Table of Contents",
   "title_sidebar": "Contents",
   "toc_cell": false,
   "toc_position": {},
   "toc_section_display": true,
   "toc_window_display": false
  },
  "vscode": {
   "interpreter": {
    "hash": "3b3f228250e95898f677de18a5e693b4779c6f701f4cfdf4d836930965889953"
   }
  }
 },
 "nbformat": 4,
 "nbformat_minor": 2
}
