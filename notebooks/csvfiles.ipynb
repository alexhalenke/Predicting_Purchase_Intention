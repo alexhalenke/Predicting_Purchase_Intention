{
 "cells": [
  {
   "cell_type": "code",
   "execution_count": 1,
   "metadata": {},
   "outputs": [],
   "source": [
    "import pandas as pd\n",
    "import glob\n",
    "import os\n",
    "import pwd\n",
    "from Predicting_Purchase_Intention.utils.clean_data import clean_data"
   ]
  },
  {
   "cell_type": "code",
   "execution_count": 2,
   "metadata": {},
   "outputs": [],
   "source": [
    "\n",
    "os.getcwd()\n",
    "cwd = !pwd"
   ]
  },
  {
   "cell_type": "code",
   "execution_count": 3,
   "metadata": {},
   "outputs": [],
   "source": [
    "path = '../Predicting_Purchase_Intention/data/15days'"
   ]
  },
  {
   "cell_type": "code",
   "execution_count": 4,
   "metadata": {},
   "outputs": [
    {
     "data": {
      "text/plain": [
       "['../Predicting_Purchase_Intention/data/15days/20201109.csv',\n",
       " '../Predicting_Purchase_Intention/data/15days/20201108.csv',\n",
       " '../Predicting_Purchase_Intention/data/15days/20201103.csv',\n",
       " '../Predicting_Purchase_Intention/data/15days/20201102.csv',\n",
       " '../Predicting_Purchase_Intention/data/15days/20201114.csv',\n",
       " '../Predicting_Purchase_Intention/data/15days/20201115.csv',\n",
       " '../Predicting_Purchase_Intention/data/15days/20201101.csv',\n",
       " '../Predicting_Purchase_Intention/data/15days/20201105.csv',\n",
       " '../Predicting_Purchase_Intention/data/15days/20201111.csv',\n",
       " '../Predicting_Purchase_Intention/data/15days/20201110.csv',\n",
       " '../Predicting_Purchase_Intention/data/15days/20201104.csv',\n",
       " '../Predicting_Purchase_Intention/data/15days/20201112.csv',\n",
       " '../Predicting_Purchase_Intention/data/15days/20201106.csv',\n",
       " '../Predicting_Purchase_Intention/data/15days/20201107.csv',\n",
       " '../Predicting_Purchase_Intention/data/15days/20201113.csv']"
      ]
     },
     "execution_count": 4,
     "metadata": {},
     "output_type": "execute_result"
    }
   ],
   "source": [
    "files = glob.glob(path + \"/*.csv\")\n",
    "files"
   ]
  },
  {
   "cell_type": "code",
   "execution_count": 5,
   "metadata": {},
   "outputs": [
    {
     "name": "stderr",
     "output_type": "stream",
     "text": [
      "/var/folders/rj/bzr89fwn3zs9bhssz_fw4_lw0000gn/T/ipykernel_16209/2140906511.py:4: DtypeWarning: Columns (0,7,9,10,13,24,25,27,29,30,32,45,46,80,82,83,84,87) have mixed types. Specify dtype option on import or set low_memory=False.\n",
      "  df = pd.read_csv(filename, index_col=None, header=0, )\n",
      "/var/folders/rj/bzr89fwn3zs9bhssz_fw4_lw0000gn/T/ipykernel_16209/2140906511.py:4: DtypeWarning: Columns (85) have mixed types. Specify dtype option on import or set low_memory=False.\n",
      "  df = pd.read_csv(filename, index_col=None, header=0, )\n",
      "/var/folders/rj/bzr89fwn3zs9bhssz_fw4_lw0000gn/T/ipykernel_16209/2140906511.py:4: DtypeWarning: Columns (80,82,83,84,87) have mixed types. Specify dtype option on import or set low_memory=False.\n",
      "  df = pd.read_csv(filename, index_col=None, header=0, )\n",
      "/var/folders/rj/bzr89fwn3zs9bhssz_fw4_lw0000gn/T/ipykernel_16209/2140906511.py:4: DtypeWarning: Columns (82,83,84,87) have mixed types. Specify dtype option on import or set low_memory=False.\n",
      "  df = pd.read_csv(filename, index_col=None, header=0, )\n",
      "/var/folders/rj/bzr89fwn3zs9bhssz_fw4_lw0000gn/T/ipykernel_16209/2140906511.py:4: DtypeWarning: Columns (72,73,74,75,80,81,82,83,84,87,89) have mixed types. Specify dtype option on import or set low_memory=False.\n",
      "  df = pd.read_csv(filename, index_col=None, header=0, )\n",
      "/var/folders/rj/bzr89fwn3zs9bhssz_fw4_lw0000gn/T/ipykernel_16209/2140906511.py:4: DtypeWarning: Columns (82,83,84,86) have mixed types. Specify dtype option on import or set low_memory=False.\n",
      "  df = pd.read_csv(filename, index_col=None, header=0, )\n",
      "/var/folders/rj/bzr89fwn3zs9bhssz_fw4_lw0000gn/T/ipykernel_16209/2140906511.py:4: DtypeWarning: Columns (71,87) have mixed types. Specify dtype option on import or set low_memory=False.\n",
      "  df = pd.read_csv(filename, index_col=None, header=0, )\n",
      "/var/folders/rj/bzr89fwn3zs9bhssz_fw4_lw0000gn/T/ipykernel_16209/2140906511.py:4: DtypeWarning: Columns (80,81,82,83,84,85) have mixed types. Specify dtype option on import or set low_memory=False.\n",
      "  df = pd.read_csv(filename, index_col=None, header=0, )\n",
      "/var/folders/rj/bzr89fwn3zs9bhssz_fw4_lw0000gn/T/ipykernel_16209/2140906511.py:4: DtypeWarning: Columns (79,80,82,83,84,88) have mixed types. Specify dtype option on import or set low_memory=False.\n",
      "  df = pd.read_csv(filename, index_col=None, header=0, )\n",
      "/var/folders/rj/bzr89fwn3zs9bhssz_fw4_lw0000gn/T/ipykernel_16209/2140906511.py:4: DtypeWarning: Columns (79,81,82,83,84,87) have mixed types. Specify dtype option on import or set low_memory=False.\n",
      "  df = pd.read_csv(filename, index_col=None, header=0, )\n",
      "/var/folders/rj/bzr89fwn3zs9bhssz_fw4_lw0000gn/T/ipykernel_16209/2140906511.py:4: DtypeWarning: Columns (77,79,82,83,84,86) have mixed types. Specify dtype option on import or set low_memory=False.\n",
      "  df = pd.read_csv(filename, index_col=None, header=0, )\n",
      "/var/folders/rj/bzr89fwn3zs9bhssz_fw4_lw0000gn/T/ipykernel_16209/2140906511.py:4: DtypeWarning: Columns (47,69,71,72,76,80,81,82,83,84,87,90) have mixed types. Specify dtype option on import or set low_memory=False.\n",
      "  df = pd.read_csv(filename, index_col=None, header=0, )\n",
      "/var/folders/rj/bzr89fwn3zs9bhssz_fw4_lw0000gn/T/ipykernel_16209/2140906511.py:4: DtypeWarning: Columns (82,83,84,86) have mixed types. Specify dtype option on import or set low_memory=False.\n",
      "  df = pd.read_csv(filename, index_col=None, header=0, )\n",
      "/var/folders/rj/bzr89fwn3zs9bhssz_fw4_lw0000gn/T/ipykernel_16209/2140906511.py:4: DtypeWarning: Columns (26,28,29,35,80,81,82,83,84,87) have mixed types. Specify dtype option on import or set low_memory=False.\n",
      "  df = pd.read_csv(filename, index_col=None, header=0, )\n",
      "/var/folders/rj/bzr89fwn3zs9bhssz_fw4_lw0000gn/T/ipykernel_16209/2140906511.py:4: DtypeWarning: Columns (74,75,76,78,79,80,82,83,84,86,89) have mixed types. Specify dtype option on import or set low_memory=False.\n",
      "  df = pd.read_csv(filename, index_col=None, header=0, )\n"
     ]
    }
   ],
   "source": [
    "li = []\n",
    "\n",
    "for filename in files:\n",
    "    df = pd.read_csv(filename, index_col=None, header=0, )\n",
    "    li.append(df)\n",
    "\n",
    "frame = pd.concat(li, axis=0, ignore_index=True)"
   ]
  },
  {
   "cell_type": "markdown",
   "metadata": {},
   "source": []
  },
  {
   "cell_type": "code",
   "execution_count": 6,
   "metadata": {},
   "outputs": [],
   "source": [
    "clean_frame = clean_data(frame)"
   ]
  },
  {
   "cell_type": "code",
   "execution_count": 7,
   "metadata": {},
   "outputs": [
    {
     "data": {
      "text/plain": [
       "Index(['event_date', 'event_timestamp', 'event_name',\n",
       "       'event_server_timestamp_offset', 'user_id', 'user_pseudo_id',\n",
       "       'user_first_touch_timestamp', 'event_params_ga_session_id',\n",
       "       'event_params_engaged_session_event', 'event_params_ga_session_number',\n",
       "       'event_params_session_engaged', 'event_params_page_title',\n",
       "       'user_ltv_revenue', 'device_category', 'device_mobile_brand_name',\n",
       "       'device_mobile_model_name', 'device_operating_system',\n",
       "       'device_vendor_id', 'device_advertising_id', 'device_language',\n",
       "       'device_web_info_browser', 'geo_continent', 'geo_sub_continent',\n",
       "       'geo_country', 'geo_region', 'geo_city', 'traffic_source_medium',\n",
       "       'traffic_source_source', 'ecommerce_total_item_quantity',\n",
       "       'ecommerce_unique_items', 'event_params_engagement_time_msec',\n",
       "       'event_params_medium', 'event_params_source', 'event_params_outbound',\n",
       "       'event_params_link_domain', 'event_params_value',\n",
       "       'event_params_promotion_name', 'event_params_coupon'],\n",
       "      dtype='object')"
      ]
     },
     "execution_count": 7,
     "metadata": {},
     "output_type": "execute_result"
    }
   ],
   "source": [
    "clean_frame.columns"
   ]
  },
  {
   "cell_type": "code",
   "execution_count": 8,
   "metadata": {},
   "outputs": [
    {
     "data": {
      "text/plain": [
       "(671254, 38)"
      ]
     },
     "execution_count": 8,
     "metadata": {},
     "output_type": "execute_result"
    }
   ],
   "source": [
    "clean_frame.shape"
   ]
  },
  {
   "cell_type": "code",
   "execution_count": 9,
   "metadata": {},
   "outputs": [],
   "source": [
    "page_title = pd.DataFrame(clean_frame['event_params_page_title'].unique())"
   ]
  },
  {
   "cell_type": "code",
   "execution_count": 10,
   "metadata": {},
   "outputs": [
    {
     "ename": "NameError",
     "evalue": "name 'page_dict' is not defined",
     "output_type": "error",
     "traceback": [
      "\u001b[0;31m---------------------------------------------------------------------------\u001b[0m",
      "\u001b[0;31mNameError\u001b[0m                                 Traceback (most recent call last)",
      "Cell \u001b[0;32mIn [10], line 1\u001b[0m\n\u001b[0;32m----> 1\u001b[0m \u001b[43mpage_dict\u001b[49m\n",
      "\u001b[0;31mNameError\u001b[0m: name 'page_dict' is not defined"
     ]
    }
   ],
   "source": [
    "page_dict"
   ]
  },
  {
   "cell_type": "code",
   "execution_count": null,
   "metadata": {},
   "outputs": [],
   "source": []
  },
  {
   "cell_type": "code",
   "execution_count": null,
   "metadata": {},
   "outputs": [],
   "source": [
    "page_titles = pd.DataFrame(clean_frame['event_params_page_title'])"
   ]
  },
  {
   "cell_type": "code",
   "execution_count": null,
   "metadata": {},
   "outputs": [
    {
     "ename": "KeyError",
     "evalue": "'Unique Page Title'",
     "output_type": "error",
     "traceback": [
      "\u001b[0;31m---------------------------------------------------------------------------\u001b[0m",
      "\u001b[0;31mKeyError\u001b[0m                                  Traceback (most recent call last)",
      "File \u001b[0;32m~/.pyenv/versions/3.8.12/envs/project_lewagon_PPI/lib/python3.8/site-packages/pandas/core/indexes/base.py:3629\u001b[0m, in \u001b[0;36mIndex.get_loc\u001b[0;34m(self, key, method, tolerance)\u001b[0m\n\u001b[1;32m   3628\u001b[0m \u001b[39mtry\u001b[39;00m:\n\u001b[0;32m-> 3629\u001b[0m     \u001b[39mreturn\u001b[39;00m \u001b[39mself\u001b[39;49m\u001b[39m.\u001b[39;49m_engine\u001b[39m.\u001b[39;49mget_loc(casted_key)\n\u001b[1;32m   3630\u001b[0m \u001b[39mexcept\u001b[39;00m \u001b[39mKeyError\u001b[39;00m \u001b[39mas\u001b[39;00m err:\n",
      "File \u001b[0;32m~/.pyenv/versions/3.8.12/envs/project_lewagon_PPI/lib/python3.8/site-packages/pandas/_libs/index.pyx:136\u001b[0m, in \u001b[0;36mpandas._libs.index.IndexEngine.get_loc\u001b[0;34m()\u001b[0m\n",
      "File \u001b[0;32m~/.pyenv/versions/3.8.12/envs/project_lewagon_PPI/lib/python3.8/site-packages/pandas/_libs/index.pyx:163\u001b[0m, in \u001b[0;36mpandas._libs.index.IndexEngine.get_loc\u001b[0;34m()\u001b[0m\n",
      "File \u001b[0;32mpandas/_libs/hashtable_class_helper.pxi:5198\u001b[0m, in \u001b[0;36mpandas._libs.hashtable.PyObjectHashTable.get_item\u001b[0;34m()\u001b[0m\n",
      "File \u001b[0;32mpandas/_libs/hashtable_class_helper.pxi:5206\u001b[0m, in \u001b[0;36mpandas._libs.hashtable.PyObjectHashTable.get_item\u001b[0;34m()\u001b[0m\n",
      "\u001b[0;31mKeyError\u001b[0m: 'Unique Page Title'",
      "\nThe above exception was the direct cause of the following exception:\n",
      "\u001b[0;31mKeyError\u001b[0m                                  Traceback (most recent call last)",
      "Cell \u001b[0;32mIn [48], line 1\u001b[0m\n\u001b[0;32m----> 1\u001b[0m \u001b[43mpage_category\u001b[49m\u001b[43m(\u001b[49m\u001b[43mpage_titles\u001b[49m\u001b[43m)\u001b[49m\n",
      "File \u001b[0;32m~/code/alexhalenke/Predicting_Purchase_Intention/Predicting_Purchase_Intention/utils/page_category.py:5\u001b[0m, in \u001b[0;36mpage_category\u001b[0;34m(df)\u001b[0m\n\u001b[1;32m      4\u001b[0m \u001b[39mdef\u001b[39;00m \u001b[39mpage_category\u001b[39m(df:pd\u001b[39m.\u001b[39mDataFrame) \u001b[39m-\u001b[39m\u001b[39m>\u001b[39m pd\u001b[39m.\u001b[39mDataFrame:\n\u001b[0;32m----> 5\u001b[0m     df[\u001b[39m\"\u001b[39m\u001b[39mPage Category\u001b[39m\u001b[39m\"\u001b[39m] \u001b[39m=\u001b[39m df[\u001b[39m'\u001b[39;49m\u001b[39mevent_params_page_title\u001b[39;49m\u001b[39m'\u001b[39;49m]\u001b[39m.\u001b[39mmap(page_dict)\n\u001b[1;32m      6\u001b[0m     \u001b[39mreturn\u001b[39;00m df\n",
      "File \u001b[0;32m~/.pyenv/versions/3.8.12/envs/project_lewagon_PPI/lib/python3.8/site-packages/pandas/core/frame.py:3505\u001b[0m, in \u001b[0;36mDataFrame.__getitem__\u001b[0;34m(self, key)\u001b[0m\n\u001b[1;32m   3503\u001b[0m \u001b[39mif\u001b[39;00m \u001b[39mself\u001b[39m\u001b[39m.\u001b[39mcolumns\u001b[39m.\u001b[39mnlevels \u001b[39m>\u001b[39m \u001b[39m1\u001b[39m:\n\u001b[1;32m   3504\u001b[0m     \u001b[39mreturn\u001b[39;00m \u001b[39mself\u001b[39m\u001b[39m.\u001b[39m_getitem_multilevel(key)\n\u001b[0;32m-> 3505\u001b[0m indexer \u001b[39m=\u001b[39m \u001b[39mself\u001b[39;49m\u001b[39m.\u001b[39;49mcolumns\u001b[39m.\u001b[39;49mget_loc(key)\n\u001b[1;32m   3506\u001b[0m \u001b[39mif\u001b[39;00m is_integer(indexer):\n\u001b[1;32m   3507\u001b[0m     indexer \u001b[39m=\u001b[39m [indexer]\n",
      "File \u001b[0;32m~/.pyenv/versions/3.8.12/envs/project_lewagon_PPI/lib/python3.8/site-packages/pandas/core/indexes/base.py:3631\u001b[0m, in \u001b[0;36mIndex.get_loc\u001b[0;34m(self, key, method, tolerance)\u001b[0m\n\u001b[1;32m   3629\u001b[0m     \u001b[39mreturn\u001b[39;00m \u001b[39mself\u001b[39m\u001b[39m.\u001b[39m_engine\u001b[39m.\u001b[39mget_loc(casted_key)\n\u001b[1;32m   3630\u001b[0m \u001b[39mexcept\u001b[39;00m \u001b[39mKeyError\u001b[39;00m \u001b[39mas\u001b[39;00m err:\n\u001b[0;32m-> 3631\u001b[0m     \u001b[39mraise\u001b[39;00m \u001b[39mKeyError\u001b[39;00m(key) \u001b[39mfrom\u001b[39;00m \u001b[39merr\u001b[39;00m\n\u001b[1;32m   3632\u001b[0m \u001b[39mexcept\u001b[39;00m \u001b[39mTypeError\u001b[39;00m:\n\u001b[1;32m   3633\u001b[0m     \u001b[39m# If we have a listlike key, _check_indexing_error will raise\u001b[39;00m\n\u001b[1;32m   3634\u001b[0m     \u001b[39m#  InvalidIndexError. Otherwise we fall through and re-raise\u001b[39;00m\n\u001b[1;32m   3635\u001b[0m     \u001b[39m#  the TypeError.\u001b[39;00m\n\u001b[1;32m   3636\u001b[0m     \u001b[39mself\u001b[39m\u001b[39m.\u001b[39m_check_indexing_error(key)\n",
      "\u001b[0;31mKeyError\u001b[0m: 'Unique Page Title'"
     ]
    }
   ],
   "source": [
    "page_category(page_titles)"
   ]
  }
 ],
 "metadata": {
  "kernelspec": {
   "display_name": "Python 3.8.12 64-bit ('project_lewagon_PPI')",
   "language": "python",
   "name": "python3"
  },
  "language_info": {
   "codemirror_mode": {
    "name": "ipython",
    "version": 3
   },
   "file_extension": ".py",
   "mimetype": "text/x-python",
   "name": "python",
   "nbconvert_exporter": "python",
   "pygments_lexer": "ipython3",
   "version": "3.8.12"
  },
  "orig_nbformat": 4,
  "vscode": {
   "interpreter": {
    "hash": "f3a4818bf8c9a4eeb107a353c180703b98dee743c8fc3f31b8c1f0ae5ab31363"
   }
  }
 },
 "nbformat": 4,
 "nbformat_minor": 2
}
